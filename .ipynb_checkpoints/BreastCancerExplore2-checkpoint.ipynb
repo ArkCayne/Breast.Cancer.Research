{
 "cells": [
  {
   "cell_type": "code",
   "execution_count": 4,
   "metadata": {
    "id": "2DXxk0rORRLJ"
   },
   "outputs": [],
   "source": [
    "import pandas as pd\n",
    "from sklearn.preprocessing import LabelEncoder\n",
    "from sklearn.model_selection import train_test_split\n",
    "from sklearn.feature_selection import SelectKBest, chi2\n",
    "from sklearn.ensemble import RandomForestClassifier\n",
    "import matplotlib.pyplot as plt\n",
    "import seaborn as sns"
   ]
  },
  {
   "cell_type": "code",
   "execution_count": 5,
   "metadata": {
    "id": "Ea4Xog2nqJqY"
   },
   "outputs": [],
   "source": [
    "import numpy as np\n",
    "from sklearn.model_selection import train_test_split, GridSearchCV\n",
    "from sklearn.preprocessing import StandardScaler, OneHotEncoder\n",
    "from sklearn.compose import ColumnTransformer\n",
    "from sklearn.metrics import accuracy_score, classification_report, confusion_matrix\n",
    "from sklearn.pipeline import Pipeline"
   ]
  },
  {
   "cell_type": "code",
   "execution_count": 6,
   "metadata": {
    "id": "FZY1rTU-YY1m"
   },
   "outputs": [],
   "source": [
    "df = pd.read_csv(\"Dataset/CubanDataset.csv\")"
   ]
  },
  {
   "cell_type": "code",
   "execution_count": 7,
   "metadata": {
    "colab": {
     "base_uri": "https://localhost:8080/",
     "height": 256
    },
    "id": "nnP4UW6FYYz2",
    "outputId": "3f0e7abf-4f6a-47eb-d5aa-4dabe598a003"
   },
   "outputs": [
    {
     "data": {
      "text/html": [
       "<div>\n",
       "<style scoped>\n",
       "    .dataframe tbody tr th:only-of-type {\n",
       "        vertical-align: middle;\n",
       "    }\n",
       "\n",
       "    .dataframe tbody tr th {\n",
       "        vertical-align: top;\n",
       "    }\n",
       "\n",
       "    .dataframe thead th {\n",
       "        text-align: right;\n",
       "    }\n",
       "</style>\n",
       "<table border=\"1\" class=\"dataframe\">\n",
       "  <thead>\n",
       "    <tr style=\"text-align: right;\">\n",
       "      <th></th>\n",
       "      <th>id</th>\n",
       "      <th>age</th>\n",
       "      <th>menarche</th>\n",
       "      <th>menopause</th>\n",
       "      <th>agefirst</th>\n",
       "      <th>children</th>\n",
       "      <th>breastfeeding</th>\n",
       "      <th>nrelbc</th>\n",
       "      <th>biopsies</th>\n",
       "      <th>hyperplasia</th>\n",
       "      <th>...</th>\n",
       "      <th>weight</th>\n",
       "      <th>exercise</th>\n",
       "      <th>alcohol</th>\n",
       "      <th>tobacco</th>\n",
       "      <th>allergies</th>\n",
       "      <th>emotional</th>\n",
       "      <th>depressive</th>\n",
       "      <th>histologicalclass</th>\n",
       "      <th>birads</th>\n",
       "      <th>cancer</th>\n",
       "    </tr>\n",
       "  </thead>\n",
       "  <tbody>\n",
       "    <tr>\n",
       "      <th>0</th>\n",
       "      <td>1</td>\n",
       "      <td>50</td>\n",
       "      <td>11</td>\n",
       "      <td>No</td>\n",
       "      <td>No</td>\n",
       "      <td>0</td>\n",
       "      <td>No</td>\n",
       "      <td>Mother</td>\n",
       "      <td>1.0</td>\n",
       "      <td>Yes</td>\n",
       "      <td>...</td>\n",
       "      <td>83.4</td>\n",
       "      <td>No</td>\n",
       "      <td>Yes</td>\n",
       "      <td>Yes</td>\n",
       "      <td>Rhinitis</td>\n",
       "      <td>Sad</td>\n",
       "      <td>Yes</td>\n",
       "      <td>3.0</td>\n",
       "      <td>3A</td>\n",
       "      <td>Yes</td>\n",
       "    </tr>\n",
       "    <tr>\n",
       "      <th>1</th>\n",
       "      <td>2</td>\n",
       "      <td>46</td>\n",
       "      <td>12</td>\n",
       "      <td>No</td>\n",
       "      <td>36</td>\n",
       "      <td>1</td>\n",
       "      <td>3 months</td>\n",
       "      <td>Mother/Sister</td>\n",
       "      <td>2.0</td>\n",
       "      <td>Yes</td>\n",
       "      <td>...</td>\n",
       "      <td>78.2</td>\n",
       "      <td>2</td>\n",
       "      <td>Yes</td>\n",
       "      <td>No</td>\n",
       "      <td>Medicines</td>\n",
       "      <td>Joy</td>\n",
       "      <td>No</td>\n",
       "      <td>3.0</td>\n",
       "      <td>3B</td>\n",
       "      <td>Yes</td>\n",
       "    </tr>\n",
       "    <tr>\n",
       "      <th>2</th>\n",
       "      <td>3</td>\n",
       "      <td>47</td>\n",
       "      <td>13</td>\n",
       "      <td>No</td>\n",
       "      <td>26</td>\n",
       "      <td>1</td>\n",
       "      <td>3 months</td>\n",
       "      <td>Sister</td>\n",
       "      <td>1.0</td>\n",
       "      <td>Yes</td>\n",
       "      <td>...</td>\n",
       "      <td>82.6</td>\n",
       "      <td>1</td>\n",
       "      <td>No</td>\n",
       "      <td>Yes</td>\n",
       "      <td>Laryngitis</td>\n",
       "      <td>Sad</td>\n",
       "      <td>No</td>\n",
       "      <td>4.0</td>\n",
       "      <td>3B</td>\n",
       "      <td>Yes</td>\n",
       "    </tr>\n",
       "    <tr>\n",
       "      <th>3</th>\n",
       "      <td>4</td>\n",
       "      <td>49</td>\n",
       "      <td>11</td>\n",
       "      <td>47</td>\n",
       "      <td>21</td>\n",
       "      <td>1</td>\n",
       "      <td>No</td>\n",
       "      <td>Daughter</td>\n",
       "      <td>1.0</td>\n",
       "      <td>No</td>\n",
       "      <td>...</td>\n",
       "      <td>79.4</td>\n",
       "      <td>No</td>\n",
       "      <td>Yes</td>\n",
       "      <td>Yes</td>\n",
       "      <td>No</td>\n",
       "      <td>Joy</td>\n",
       "      <td>No</td>\n",
       "      <td>3.0</td>\n",
       "      <td>4B</td>\n",
       "      <td>Yes</td>\n",
       "    </tr>\n",
       "    <tr>\n",
       "      <th>4</th>\n",
       "      <td>5</td>\n",
       "      <td>54</td>\n",
       "      <td>14</td>\n",
       "      <td>42</td>\n",
       "      <td>16</td>\n",
       "      <td>1</td>\n",
       "      <td>1 month</td>\n",
       "      <td>Mother</td>\n",
       "      <td>2.0</td>\n",
       "      <td>Yes</td>\n",
       "      <td>...</td>\n",
       "      <td>81.5</td>\n",
       "      <td>No</td>\n",
       "      <td>Yes</td>\n",
       "      <td>No</td>\n",
       "      <td>No</td>\n",
       "      <td>Sad</td>\n",
       "      <td>Yes</td>\n",
       "      <td>4.0</td>\n",
       "      <td>3C</td>\n",
       "      <td>Yes</td>\n",
       "    </tr>\n",
       "  </tbody>\n",
       "</table>\n",
       "<p>5 rows × 23 columns</p>\n",
       "</div>"
      ],
      "text/plain": [
       "   id  age  menarche menopause agefirst children breastfeeding         nrelbc  \\\n",
       "0   1   50        11        No       No        0            No         Mother   \n",
       "1   2   46        12        No       36        1      3 months  Mother/Sister   \n",
       "2   3   47        13        No       26        1      3 months         Sister   \n",
       "3   4   49        11        47       21        1            No       Daughter   \n",
       "4   5   54        14        42       16        1       1 month         Mother   \n",
       "\n",
       "   biopsies hyperplasia  ... weight  exercise  alcohol  tobacco   allergies  \\\n",
       "0       1.0         Yes  ...   83.4        No      Yes      Yes    Rhinitis   \n",
       "1       2.0         Yes  ...   78.2         2      Yes       No   Medicines   \n",
       "2       1.0         Yes  ...   82.6         1       No      Yes  Laryngitis   \n",
       "3       1.0          No  ...   79.4        No      Yes      Yes          No   \n",
       "4       2.0         Yes  ...   81.5        No      Yes       No          No   \n",
       "\n",
       "  emotional depressive histologicalclass birads cancer  \n",
       "0       Sad        Yes               3.0     3A    Yes  \n",
       "1       Joy         No               3.0     3B    Yes  \n",
       "2       Sad         No               4.0     3B    Yes  \n",
       "3       Joy         No               3.0     4B    Yes  \n",
       "4       Sad        Yes               4.0     3C    Yes  \n",
       "\n",
       "[5 rows x 23 columns]"
      ]
     },
     "execution_count": 7,
     "metadata": {},
     "output_type": "execute_result"
    }
   ],
   "source": [
    "df.head()"
   ]
  },
  {
   "cell_type": "code",
   "execution_count": 8,
   "metadata": {
    "colab": {
     "base_uri": "https://localhost:8080/"
    },
    "id": "_t0qOqweYYxS",
    "outputId": "49fce5f0-b91b-4743-b38e-60376316dea4"
   },
   "outputs": [
    {
     "data": {
      "text/plain": [
       "(1697, 23)"
      ]
     },
     "execution_count": 8,
     "metadata": {},
     "output_type": "execute_result"
    }
   ],
   "source": [
    "df.shape"
   ]
  },
  {
   "cell_type": "code",
   "execution_count": 9,
   "metadata": {
    "colab": {
     "base_uri": "https://localhost:8080/"
    },
    "id": "JINvbOfDYYu5",
    "outputId": "7a31b737-37de-43d6-fc4c-1b56ed84f423"
   },
   "outputs": [
    {
     "name": "stdout",
     "output_type": "stream",
     "text": [
      "<class 'pandas.core.frame.DataFrame'>\n",
      "RangeIndex: 1697 entries, 0 to 1696\n",
      "Data columns (total 23 columns):\n",
      " #   Column             Non-Null Count  Dtype  \n",
      "---  ------             --------------  -----  \n",
      " 0   id                 1697 non-null   int64  \n",
      " 1   age                1697 non-null   int64  \n",
      " 2   menarche           1697 non-null   int64  \n",
      " 3   menopause          1697 non-null   object \n",
      " 4   agefirst           1697 non-null   object \n",
      " 5   children           1697 non-null   object \n",
      " 6   breastfeeding      1697 non-null   object \n",
      " 7   nrelbc             1697 non-null   object \n",
      " 8   biopsies           1696 non-null   float64\n",
      " 9   hyperplasia        1697 non-null   object \n",
      " 10  race               1697 non-null   object \n",
      " 11  year               1160 non-null   float64\n",
      " 12  imc                1690 non-null   float64\n",
      " 13  weight             1687 non-null   float64\n",
      " 14  exercise           1697 non-null   object \n",
      " 15  alcohol            1697 non-null   object \n",
      " 16  tobacco            1697 non-null   object \n",
      " 17  allergies          1421 non-null   object \n",
      " 18  emotional          1697 non-null   object \n",
      " 19  depressive         1697 non-null   object \n",
      " 20  histologicalclass  1160 non-null   float64\n",
      " 21  birads             1160 non-null   object \n",
      " 22  cancer             1697 non-null   object \n",
      "dtypes: float64(5), int64(3), object(15)\n",
      "memory usage: 305.1+ KB\n"
     ]
    }
   ],
   "source": [
    "df.info()"
   ]
  },
  {
   "cell_type": "code",
   "execution_count": 10,
   "metadata": {
    "colab": {
     "base_uri": "https://localhost:8080/",
     "height": 300
    },
    "id": "_CVyfH6ZYd1-",
    "outputId": "110f5ec9-9214-4987-e292-6abe20b79efc"
   },
   "outputs": [
    {
     "data": {
      "text/html": [
       "<div>\n",
       "<style scoped>\n",
       "    .dataframe tbody tr th:only-of-type {\n",
       "        vertical-align: middle;\n",
       "    }\n",
       "\n",
       "    .dataframe tbody tr th {\n",
       "        vertical-align: top;\n",
       "    }\n",
       "\n",
       "    .dataframe thead th {\n",
       "        text-align: right;\n",
       "    }\n",
       "</style>\n",
       "<table border=\"1\" class=\"dataframe\">\n",
       "  <thead>\n",
       "    <tr style=\"text-align: right;\">\n",
       "      <th></th>\n",
       "      <th>id</th>\n",
       "      <th>age</th>\n",
       "      <th>menarche</th>\n",
       "      <th>biopsies</th>\n",
       "      <th>year</th>\n",
       "      <th>imc</th>\n",
       "      <th>weight</th>\n",
       "      <th>histologicalclass</th>\n",
       "    </tr>\n",
       "  </thead>\n",
       "  <tbody>\n",
       "    <tr>\n",
       "      <th>count</th>\n",
       "      <td>1697.00000</td>\n",
       "      <td>1697.000000</td>\n",
       "      <td>1697.000000</td>\n",
       "      <td>1696.000000</td>\n",
       "      <td>1160.000000</td>\n",
       "      <td>1690.000000</td>\n",
       "      <td>1687.000000</td>\n",
       "      <td>1160.000000</td>\n",
       "    </tr>\n",
       "    <tr>\n",
       "      <th>mean</th>\n",
       "      <td>849.00000</td>\n",
       "      <td>51.483206</td>\n",
       "      <td>11.725987</td>\n",
       "      <td>1.308373</td>\n",
       "      <td>2010.863793</td>\n",
       "      <td>25.534615</td>\n",
       "      <td>70.497214</td>\n",
       "      <td>3.729310</td>\n",
       "    </tr>\n",
       "    <tr>\n",
       "      <th>std</th>\n",
       "      <td>490.02602</td>\n",
       "      <td>11.929919</td>\n",
       "      <td>1.839937</td>\n",
       "      <td>1.184392</td>\n",
       "      <td>4.636249</td>\n",
       "      <td>4.961554</td>\n",
       "      <td>12.808854</td>\n",
       "      <td>1.767066</td>\n",
       "    </tr>\n",
       "    <tr>\n",
       "      <th>min</th>\n",
       "      <td>1.00000</td>\n",
       "      <td>20.000000</td>\n",
       "      <td>8.000000</td>\n",
       "      <td>0.000000</td>\n",
       "      <td>2001.000000</td>\n",
       "      <td>5.000000</td>\n",
       "      <td>13.000000</td>\n",
       "      <td>1.000000</td>\n",
       "    </tr>\n",
       "    <tr>\n",
       "      <th>25%</th>\n",
       "      <td>425.00000</td>\n",
       "      <td>45.000000</td>\n",
       "      <td>10.000000</td>\n",
       "      <td>0.000000</td>\n",
       "      <td>2008.000000</td>\n",
       "      <td>22.800000</td>\n",
       "      <td>61.900000</td>\n",
       "      <td>3.000000</td>\n",
       "    </tr>\n",
       "    <tr>\n",
       "      <th>50%</th>\n",
       "      <td>849.00000</td>\n",
       "      <td>53.000000</td>\n",
       "      <td>12.000000</td>\n",
       "      <td>1.000000</td>\n",
       "      <td>2011.000000</td>\n",
       "      <td>25.100000</td>\n",
       "      <td>69.200000</td>\n",
       "      <td>3.000000</td>\n",
       "    </tr>\n",
       "    <tr>\n",
       "      <th>75%</th>\n",
       "      <td>1273.00000</td>\n",
       "      <td>61.000000</td>\n",
       "      <td>13.000000</td>\n",
       "      <td>2.000000</td>\n",
       "      <td>2015.000000</td>\n",
       "      <td>27.300000</td>\n",
       "      <td>79.200000</td>\n",
       "      <td>4.000000</td>\n",
       "    </tr>\n",
       "    <tr>\n",
       "      <th>max</th>\n",
       "      <td>1697.00000</td>\n",
       "      <td>90.000000</td>\n",
       "      <td>17.000000</td>\n",
       "      <td>5.000000</td>\n",
       "      <td>2018.000000</td>\n",
       "      <td>88.800000</td>\n",
       "      <td>240.000000</td>\n",
       "      <td>11.000000</td>\n",
       "    </tr>\n",
       "  </tbody>\n",
       "</table>\n",
       "</div>"
      ],
      "text/plain": [
       "               id          age     menarche     biopsies         year  \\\n",
       "count  1697.00000  1697.000000  1697.000000  1696.000000  1160.000000   \n",
       "mean    849.00000    51.483206    11.725987     1.308373  2010.863793   \n",
       "std     490.02602    11.929919     1.839937     1.184392     4.636249   \n",
       "min       1.00000    20.000000     8.000000     0.000000  2001.000000   \n",
       "25%     425.00000    45.000000    10.000000     0.000000  2008.000000   \n",
       "50%     849.00000    53.000000    12.000000     1.000000  2011.000000   \n",
       "75%    1273.00000    61.000000    13.000000     2.000000  2015.000000   \n",
       "max    1697.00000    90.000000    17.000000     5.000000  2018.000000   \n",
       "\n",
       "               imc       weight  histologicalclass  \n",
       "count  1690.000000  1687.000000        1160.000000  \n",
       "mean     25.534615    70.497214           3.729310  \n",
       "std       4.961554    12.808854           1.767066  \n",
       "min       5.000000    13.000000           1.000000  \n",
       "25%      22.800000    61.900000           3.000000  \n",
       "50%      25.100000    69.200000           3.000000  \n",
       "75%      27.300000    79.200000           4.000000  \n",
       "max      88.800000   240.000000          11.000000  "
      ]
     },
     "execution_count": 10,
     "metadata": {},
     "output_type": "execute_result"
    }
   ],
   "source": [
    "df.describe()"
   ]
  },
  {
   "cell_type": "code",
   "execution_count": 11,
   "metadata": {
    "colab": {
     "base_uri": "https://localhost:8080/",
     "height": 554
    },
    "id": "6LRcw_OiYd0I",
    "outputId": "4b445d71-8ab0-45bc-dec1-77ea17ff103c"
   },
   "outputs": [
    {
     "data": {
      "text/plain": [
       "menopause        [No, 47, 42, 44, 46, 43, 51, 40, 41, 48, 39, 4...\n",
       "agefirst         [No, 36, 26, 21, 16, 20, 27, 24, 30, 35, 25, 1...\n",
       "children                                    [0, 1, 2, 3, 4, 5, 5+]\n",
       "breastfeeding    [No, 3 months, 1 month, 2 months, 4 months, 8 ...\n",
       "nrelbc           [Mother, Mother/Sister, Sister, Daughter, No, ...\n",
       "hyperplasia                                              [Yes, No]\n",
       "race                                         [White, Mixed, Black]\n",
       "exercise                   [No, 2, 1, Diary, 3, 5, 4, NO, 6, 0, 7]\n",
       "alcohol                                                  [Yes, No]\n",
       "tobacco                                                  [Yes, No]\n",
       "allergies        [Rhinitis, Medicines, Laryngitis, No, Dermatit...\n",
       "emotional                                               [Sad, Joy]\n",
       "depressive                                               [Yes, No]\n",
       "birads                            [3A, 3B, 4B, 3C, 5C, 5B, 6, nan]\n",
       "cancer                                                   [Yes, No]\n",
       "dtype: object"
      ]
     },
     "execution_count": 11,
     "metadata": {},
     "output_type": "execute_result"
    }
   ],
   "source": [
    "df.select_dtypes(include = \"object\").apply(pd.unique)"
   ]
  },
  {
   "cell_type": "code",
   "execution_count": 12,
   "metadata": {
    "colab": {
     "base_uri": "https://localhost:8080/",
     "height": 472
    },
    "id": "UCkz6IgZk_n5",
    "outputId": "bdaa6136-9942-46df-af44-3f9c713d20ee"
   },
   "outputs": [
    {
     "data": {
      "image/png": "[encoded data removed]",
      "text/plain": [
       "<Figure size 640x480 with 1 Axes>"
      ]
     },
     "metadata": {},
     "output_type": "display_data"
    }
   ],
   "source": [
    "sns.countplot(x='cancer', data=df)\n",
    "plt.title('Cancer Distribution')\n",
    "plt.show()"
   ]
  },
  {
   "cell_type": "markdown",
   "metadata": {
    "id": "WtKDQe2glkOw"
   },
   "source": [
    "Preprocess"
   ]
  },
  {
   "cell_type": "code",
   "execution_count": 13,
   "metadata": {
    "id": "IJF2kPEtYdyO"
   },
   "outputs": [],
   "source": [
    "df = df.drop(columns = ['id'])"
   ]
  },
  {
   "cell_type": "code",
   "execution_count": 14,
   "metadata": {
    "colab": {
     "base_uri": "https://localhost:8080/"
    },
    "id": "oRavzZKhYdvz",
    "outputId": "470d56ed-496a-4932-cd04-b8371c3ce670"
   },
   "outputs": [
    {
     "name": "stderr",
     "output_type": "stream",
     "text": [
      "C:\\Users\\Arky\\AppData\\Local\\Temp\\ipykernel_2236\\790813650.py:1: FutureWarning: A value is trying to be set on a copy of a DataFrame or Series through chained assignment using an inplace method.\n",
      "The behavior will change in pandas 3.0. This inplace method will never work because the intermediate object on which we are setting values always behaves as a copy.\n",
      "\n",
      "For example, when doing 'df[col].method(value, inplace=True)', try using 'df.method({col: value}, inplace=True)' or df[col] = df[col].method(value) instead, to perform the operation inplace on the original object.\n",
      "\n",
      "\n",
      "  df['histologicalclass'].fillna(df['histologicalclass'].min(), inplace=True)\n"
     ]
    }
   ],
   "source": [
    "df['histologicalclass'].fillna(df['histologicalclass'].min(), inplace=True)"
   ]
  },
  {
   "cell_type": "code",
   "execution_count": 15,
   "metadata": {
    "colab": {
     "base_uri": "https://localhost:8080/"
    },
    "id": "wVeSUrPxpJ0s",
    "outputId": "247b09cc-38fd-4b34-a012-cf89f4cc32f6"
   },
   "outputs": [
    {
     "name": "stderr",
     "output_type": "stream",
     "text": [
      "C:\\Users\\Arky\\AppData\\Local\\Temp\\ipykernel_2236\\1628590280.py:1: FutureWarning: A value is trying to be set on a copy of a DataFrame or Series through chained assignment using an inplace method.\n",
      "The behavior will change in pandas 3.0. This inplace method will never work because the intermediate object on which we are setting values always behaves as a copy.\n",
      "\n",
      "For example, when doing 'df[col].method(value, inplace=True)', try using 'df.method({col: value}, inplace=True)' or df[col] = df[col].method(value) instead, to perform the operation inplace on the original object.\n",
      "\n",
      "\n",
      "  df['birads'].fillna(df['birads'].mode()[0], inplace=True)\n"
     ]
    }
   ],
   "source": [
    "df['birads'].fillna(df['birads'].mode()[0], inplace=True)"
   ]
  },
  {
   "cell_type": "code",
   "execution_count": 16,
   "metadata": {
    "colab": {
     "base_uri": "https://localhost:8080/"
    },
    "id": "QGJEMKc3pqYK",
    "outputId": "25c76f37-c779-494d-ccfd-b09e73375b85"
   },
   "outputs": [
    {
     "name": "stderr",
     "output_type": "stream",
     "text": [
      "C:\\Users\\Arky\\AppData\\Local\\Temp\\ipykernel_2236\\1494570223.py:1: FutureWarning: A value is trying to be set on a copy of a DataFrame or Series through chained assignment using an inplace method.\n",
      "The behavior will change in pandas 3.0. This inplace method will never work because the intermediate object on which we are setting values always behaves as a copy.\n",
      "\n",
      "For example, when doing 'df[col].method(value, inplace=True)', try using 'df.method({col: value}, inplace=True)' or df[col] = df[col].method(value) instead, to perform the operation inplace on the original object.\n",
      "\n",
      "\n",
      "  df['year'].fillna(df['year'].median(), inplace=True)\n"
     ]
    }
   ],
   "source": [
    "df['year'].fillna(df['year'].median(), inplace=True)"
   ]
  },
  {
   "cell_type": "code",
   "execution_count": 17,
   "metadata": {
    "id": "HxaASCq-ptyD"
   },
   "outputs": [],
   "source": [
    "df = df.dropna()"
   ]
  },
  {
   "cell_type": "code",
   "execution_count": 18,
   "metadata": {
    "id": "Kifg14pwYgd3"
   },
   "outputs": [],
   "source": [
    "label_encoder = LabelEncoder()"
   ]
  },
  {
   "cell_type": "code",
   "execution_count": 19,
   "metadata": {
    "id": "kHfoCgxIYgby"
   },
   "outputs": [],
   "source": [
    "categorical_columns = df.select_dtypes(include = \"object\")"
   ]
  },
  {
   "cell_type": "code",
   "execution_count": 20,
   "metadata": {
    "id": "DHGrIv0YYgZ1"
   },
   "outputs": [],
   "source": [
    "for col in categorical_columns:\n",
    "    df[col] = label_encoder.fit_transform(df[col])"
   ]
  },
  {
   "cell_type": "code",
   "execution_count": 21,
   "metadata": {
    "colab": {
     "base_uri": "https://localhost:8080/",
     "height": 472
    },
    "id": "KoYD2T3ImLJo",
    "outputId": "c40b1443-bd57-4038-b46e-eccccd6932ed"
   },
   "outputs": [
    {
     "data": {
      "image/png": "[encoded data removed]",
      "text/plain": [
       "<Figure size 640x480 with 1 Axes>"
      ]
     },
     "metadata": {},
     "output_type": "display_data"
    }
   ],
   "source": [
    "sns.countplot(x='cancer', data=df)\n",
    "plt.title('Cancer Distribution')\n",
    "plt.show()"
   ]
  },
  {
   "cell_type": "code",
   "execution_count": 22,
   "metadata": {
    "colab": {
     "base_uri": "https://localhost:8080/"
    },
    "id": "aiohsQj2Yms0",
    "outputId": "0acf5528-5fa3-48e0-e528-5ce5f3515b78"
   },
   "outputs": [
    {
     "name": "stdout",
     "output_type": "stream",
     "text": [
      "      age  menarche  menopause  agefirst  children  breastfeeding  nrelbc  \\\n",
      "0      50        11         25        30         0             38       6   \n",
      "1      46        12         25        24         1             22      12   \n",
      "2      47        13         25        14         1             22      14   \n",
      "3      49        11         16         9         1             38       3   \n",
      "4      54        14         11         4         1              2       6   \n",
      "...   ...       ...        ...       ...       ...            ...     ...   \n",
      "1688   21        11          0         0         0              0      13   \n",
      "1692   42        12          2         8         2             21      13   \n",
      "1694   21         9          0         0         0              0      13   \n",
      "1695   25        12          0         0         0              0      13   \n",
      "1696   20        11          0         0         0              0      13   \n",
      "\n",
      "      biopsies  hyperplasia  race  ...  weight  exercise  alcohol  tobacco  \\\n",
      "0          1.0            1     2  ...    83.4        10        1        1   \n",
      "1          2.0            1     1  ...    78.2         2        1        0   \n",
      "2          1.0            1     0  ...    82.6         1        0        1   \n",
      "3          1.0            0     0  ...    79.4        10        1        1   \n",
      "4          2.0            1     2  ...    81.5        10        1        0   \n",
      "...        ...          ...   ...  ...     ...       ...      ...      ...   \n",
      "1688       0.0            0     2  ...    53.0         0        1        1   \n",
      "1692       0.0            0     2  ...    60.0         0        1        0   \n",
      "1694       0.0            0     2  ...    55.0         3        1        1   \n",
      "1695       0.0            0     1  ...    69.0         5        1        1   \n",
      "1696       0.0            0     2  ...    67.7         0        0        0   \n",
      "\n",
      "      allergies  emotional  depressive  histologicalclass  birads  cancer  \n",
      "0            18          1           1                3.0       0       1  \n",
      "1            11          0           0                3.0       1       1  \n",
      "2             8          1           0                4.0       1       1  \n",
      "3            16          0           0                3.0       3       1  \n",
      "4            16          1           1                4.0       2       1  \n",
      "...         ...        ...         ...                ...     ...     ...  \n",
      "1688         17          0           0                1.0       4       0  \n",
      "1692         17          0           0                1.0       4       0  \n",
      "1694         17          0           0                1.0       4       0  \n",
      "1695         17          0           0                1.0       4       0  \n",
      "1696         11          0           0                1.0       4       0  \n",
      "\n",
      "[1419 rows x 22 columns]\n"
     ]
    }
   ],
   "source": [
    "print(df)"
   ]
  },
  {
   "cell_type": "code",
   "execution_count": 23,
   "metadata": {
    "id": "9K7YOpiAYmq5"
   },
   "outputs": [],
   "source": [
    "X = df.drop(columns = ['cancer'])\n",
    "y = df['cancer']\n",
    "\n",
    "X_train, X_test, y_train, y_test = train_test_split(X, y, test_size = 0.3, random_state = 42)"
   ]
  },
  {
   "cell_type": "code",
   "execution_count": 24,
   "metadata": {
    "colab": {
     "base_uri": "https://localhost:8080/",
     "height": 458
    },
    "id": "7-Lk3AZalzTO",
    "outputId": "80b91180-99e5-49bb-8ba4-34625a21e13a"
   },
   "outputs": [
    {
     "data": {
      "text/plain": [
       "0       1\n",
       "1       1\n",
       "2       1\n",
       "3       1\n",
       "4       1\n",
       "       ..\n",
       "1688    0\n",
       "1692    0\n",
       "1694    0\n",
       "1695    0\n",
       "1696    0\n",
       "Name: cancer, Length: 1419, dtype: int32"
      ]
     },
     "execution_count": 24,
     "metadata": {},
     "output_type": "execute_result"
    }
   ],
   "source": [
    "df['cancer']"
   ]
  },
  {
   "cell_type": "code",
   "execution_count": 25,
   "metadata": {
    "colab": {
     "base_uri": "https://localhost:8080/"
    },
    "id": "8vtRiOrqYp0J",
    "outputId": "b19b0819-fac0-4a0a-afe1-72b0bc75b98d"
   },
   "outputs": [
    {
     "name": "stdout",
     "output_type": "stream",
     "text": [
      "Selected features:  Index(['menopause', 'agefirst', 'breastfeeding', 'exercise',\n",
      "       'histologicalclass'],\n",
      "      dtype='object')\n"
     ]
    }
   ],
   "source": [
    "select_k_best = SelectKBest(score_func = chi2, k = 5)\n",
    "X_train_k_best = select_k_best.fit_transform(X_train, y_train)\n",
    "\n",
    "print(\"Selected features: \", X_train.columns[select_k_best.get_support()])"
   ]
  },
  {
   "cell_type": "code",
   "execution_count": 26,
   "metadata": {
    "colab": {
     "base_uri": "https://localhost:8080/"
    },
    "id": "tiLWncpXYpxP",
    "outputId": "d4ab4dfe-95c6-46c0-d936-698dbbdfdc75"
   },
   "outputs": [
    {
     "name": "stdout",
     "output_type": "stream",
     "text": [
      "histologicalclass    0.275334\n",
      "biopsies             0.269608\n",
      "exercise             0.131776\n",
      "menopause            0.108953\n",
      "emotional            0.036183\n",
      "breastfeeding        0.030908\n",
      "alcohol              0.023262\n",
      "hyperplasia          0.019752\n",
      "tobacco              0.018766\n",
      "weight               0.017785\n",
      "year                 0.012841\n",
      "agefirst             0.012737\n",
      "birads               0.010843\n",
      "imc                  0.008924\n",
      "children             0.006469\n",
      "age                  0.004925\n",
      "depressive           0.004255\n",
      "nrelbc               0.002935\n",
      "menarche             0.001872\n",
      "allergies            0.001618\n",
      "race                 0.000252\n",
      "dtype: float64\n"
     ]
    }
   ],
   "source": [
    "model = RandomForestClassifier()\n",
    "model.fit(X_train, y_train)\n",
    "importances = model.feature_importances_\n",
    "\n",
    "feature_importances = pd.Series(importances, index = X_train.columns)\n",
    "print(feature_importances.sort_values(ascending = False))"
   ]
  },
  {
   "cell_type": "code",
   "execution_count": 27,
   "metadata": {
    "id": "EE6M6oZ9sXnm"
   },
   "outputs": [],
   "source": [
    "feature_names = ['age', 'menarche', 'menopause', 'agefirst', 'children', 'breastfeeding', 'nrelbc' , 'biopsies' , 'hyperplasia' , 'race' , 'year' , 'imc' , 'weight' , 'exercise'\n",
    "                 , 'alcohol' , 'tobacco' , 'allergies' , 'emotional' , 'depressive' , 'histologicalclass' , 'birads']\n",
    "\n",
    "importances = feature_importances.sort_values(ascending = False)"
   ]
  },
  {
   "cell_type": "code",
   "execution_count": 28,
   "metadata": {
    "colab": {
     "base_uri": "https://localhost:8080/"
    },
    "id": "1d9NIjk8voUK",
    "outputId": "30c76630-4995-4184-e0eb-28d1289a5a43"
   },
   "outputs": [
    {
     "data": {
      "text/plain": [
       "['histologicalclass',\n",
       " 'biopsies',\n",
       " 'exercise',\n",
       " 'menopause',\n",
       " 'emotional',\n",
       " 'breastfeeding',\n",
       " 'alcohol',\n",
       " 'hyperplasia',\n",
       " 'tobacco',\n",
       " 'weight',\n",
       " 'year',\n",
       " 'agefirst',\n",
       " 'birads',\n",
       " 'imc',\n",
       " 'children',\n",
       " 'age',\n",
       " 'depressive',\n",
       " 'nrelbc',\n",
       " 'menarche',\n",
       " 'allergies',\n",
       " 'race']"
      ]
     },
     "execution_count": 28,
     "metadata": {},
     "output_type": "execute_result"
    }
   ],
   "source": [
    "sorted_features = feature_importances.sort_values(ascending=False)\n",
    "sorted_features.index.tolist()"
   ]
  },
  {
   "cell_type": "code",
   "execution_count": 29,
   "metadata": {
    "id": "REELE__YsTKH"
   },
   "outputs": [],
   "source": [
    "importance_df = pd.DataFrame({'Feature': sorted_features.index.tolist(), 'Importance': importances})"
   ]
  },
  {
   "cell_type": "code",
   "execution_count": 31,
   "metadata": {
    "colab": {
     "base_uri": "https://localhost:8080/",
     "height": 718
    },
    "id": "VQJnhPcUr0-n",
    "outputId": "a9fc43c7-aec3-4944-ffa8-2e88c881cbfd"
   },
   "outputs": [
    {
     "data": {
      "image/png": "[encoded data removed]",
      "text/plain": [
       "<Figure size 1200x800 with 1 Axes>"
      ]
     },
     "metadata": {},
     "output_type": "display_data"
    }
   ],
   "source": [
    "plt.figure(figsize=(12, 8))\n",
    "sns.barplot(x='Importance', y='Feature', data=importance_df)\n",
    "plt.title('Feature Importances')\n",
    "plt.show()"
   ]
  },
  {
   "cell_type": "code",
   "execution_count": null,
   "metadata": {},
   "outputs": [],
   "source": []
  }
 ],
 "metadata": {
  "colab": {
   "provenance": []
  },
  "kernelspec": {
   "display_name": "Python 3 (ipykernel)",
   "language": "python",
   "name": "python3"
  },
  "language_info": {
   "codemirror_mode": {
    "name": "ipython",
    "version": 3
   },
   "file_extension": ".py",
   "mimetype": "text/x-python",
   "name": "python",
   "nbconvert_exporter": "python",
   "pygments_lexer": "ipython3",
   "version": "3.12.6"
  }
 },
 "nbformat": 4,
 "nbformat_minor": 4
}
