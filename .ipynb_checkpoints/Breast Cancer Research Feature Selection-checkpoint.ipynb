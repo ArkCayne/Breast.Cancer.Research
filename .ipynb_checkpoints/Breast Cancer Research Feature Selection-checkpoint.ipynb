{
 "cells": [
  {
   "cell_type": "markdown",
   "id": "75a0ce74-a75d-4e11-9182-ebb3b6ed0782",
   "metadata": {},
   "source": [
    "# Loading Libraries and Dataset"
   ]
  },
  {
   "cell_type": "code",
   "execution_count": 1,
   "id": "606a3a5b-923b-4d19-a92d-4d7591c87cf2",
   "metadata": {},
   "outputs": [],
   "source": [
    "# Installing and loading libraries\n",
    "import pandas as pd\n",
    "import numpy as np"
   ]
  },
  {
   "cell_type": "code",
   "execution_count": 2,
   "id": "6f08f97e-5234-4eb5-8308-d7c7e042a0c0",
   "metadata": {},
   "outputs": [],
   "source": [
    "# Loading the preprocessed CSV dataset\n",
    "df = pd.read_csv(\"Dataset/PreprocessedDataset.csv\")"
   ]
  },
  {
   "cell_type": "code",
   "execution_count": null,
   "id": "55713178-a4a8-43c6-ba79-b8fd826a99e9",
   "metadata": {},
   "outputs": [],
   "source": []
  },
  {
   "cell_type": "code",
   "execution_count": null,
   "id": "f7ff13b0-902a-43f0-b8bb-e468aa20004d",
   "metadata": {},
   "outputs": [],
   "source": []
  }
 ],
 "metadata": {
  "kernelspec": {
   "display_name": "Python 3 (ipykernel)",
   "language": "python",
   "name": "python3"
  },
  "language_info": {
   "codemirror_mode": {
    "name": "ipython",
    "version": 3
   },
   "file_extension": ".py",
   "mimetype": "text/x-python",
   "name": "python",
   "nbconvert_exporter": "python",
   "pygments_lexer": "ipython3",
   "version": "3.12.6"
  }
 },
 "nbformat": 4,
 "nbformat_minor": 5
}
