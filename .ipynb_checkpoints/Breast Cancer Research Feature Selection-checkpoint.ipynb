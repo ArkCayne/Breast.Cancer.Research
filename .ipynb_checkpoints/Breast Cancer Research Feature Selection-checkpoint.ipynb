{
 "cells": [
  {
   "cell_type": "markdown",
   "id": "75a0ce74-a75d-4e11-9182-ebb3b6ed0782",
   "metadata": {},
   "source": [
    "# Loading Libraries and Dataset"
   ]
  },
  {
   "cell_type": "code",
   "execution_count": 1,
   "id": "606a3a5b-923b-4d19-a92d-4d7591c87cf2",
   "metadata": {},
   "outputs": [],
   "source": [
    "# Installing and loading libraries\n",
    "import pandas as pd\n",
    "import numpy as np\n",
    "\n",
    "# Tree-based feature importance\n",
    "from sklearn.ensemble import RandomForestClassifier"
   ]
  },
  {
   "cell_type": "code",
   "execution_count": 2,
   "id": "6f08f97e-5234-4eb5-8308-d7c7e042a0c0",
   "metadata": {},
   "outputs": [],
   "source": [
    "# Loading the preprocessed CSV dataset\n",
    "df = pd.read_csv(\"Dataset/PreprocessedDataset.csv\")"
   ]
  },
  {
   "cell_type": "markdown",
   "id": "b05d0201-2915-4ebe-bcdf-e9529c49b82e",
   "metadata": {},
   "source": [
    "# Preparing Data"
   ]
  },
  {
   "cell_type": "code",
   "execution_count": 4,
   "id": "985c9df5-2b6b-4a99-9fb9-1e19e42138ec",
   "metadata": {},
   "outputs": [
    {
     "data": {
      "text/plain": [
       "Index(['id', 'age', 'menarche', 'menopause', 'agefirst', 'breastfeeding',\n",
       "       'biopsies', 'year', 'imc', 'weight', 'exercise', 'nrelbc_mother',\n",
       "       'nrelbc_sister', 'nrelbc_daughter', 'nrelbc_cousin', 'nrelbc_aunt',\n",
       "       'nrelbc_grandma', 'nrelbc_absent', 'rhinitis_allergy',\n",
       "       'medicines_allergy', 'laryngitis_allergy', 'dermatitis_allergy',\n",
       "       'other_allergy', 'no_allergy', 'histologicalclass', '1_children',\n",
       "       '2_children', '3_children', '4_children', '5_children',\n",
       "       'more_than_5_children', 'hyperplasia', 'is_mixed_race', 'is_white_race',\n",
       "       'consumed_alcohol', 'consumed_tobacco', 'is_sad', 'is_depressive',\n",
       "       'birads'],\n",
       "      dtype='object')"
      ]
     },
     "execution_count": 4,
     "metadata": {},
     "output_type": "execute_result"
    }
   ],
   "source": [
    "df.columns"
   ]
  },
  {
   "cell_type": "code",
   "execution_count": null,
   "id": "493a6441-17c5-4f90-8000-319ed7dc1423",
   "metadata": {},
   "outputs": [],
   "source": [
    "features = df.drop(columns = [\"\"])"
   ]
  },
  {
   "cell_type": "markdown",
   "id": "0af9c2f4-8b30-4001-bc1d-1921c4b30178",
   "metadata": {},
   "source": [
    "# Feature Selection"
   ]
  },
  {
   "cell_type": "markdown",
   "id": "8bde30f1-7aec-4646-9696-e6247d6b8408",
   "metadata": {},
   "source": [
    "## Tree-Based Feature Importance\n",
    "Using random forest classifier"
   ]
  },
  {
   "cell_type": "code",
   "execution_count": null,
   "id": "f527038c-04d3-4290-9c05-edab676bff32",
   "metadata": {},
   "outputs": [],
   "source": []
  }
 ],
 "metadata": {
  "kernelspec": {
   "display_name": "Python 3 (ipykernel)",
   "language": "python",
   "name": "python3"
  },
  "language_info": {
   "codemirror_mode": {
    "name": "ipython",
    "version": 3
   },
   "file_extension": ".py",
   "mimetype": "text/x-python",
   "name": "python",
   "nbconvert_exporter": "python",
   "pygments_lexer": "ipython3",
   "version": "3.12.6"
  }
 },
 "nbformat": 4,
 "nbformat_minor": 5
}
