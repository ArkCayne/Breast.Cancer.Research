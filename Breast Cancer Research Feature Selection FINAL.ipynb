{
 "cells": [
  {
   "cell_type": "markdown",
   "id": "75a0ce74-a75d-4e11-9182-ebb3b6ed0782",
   "metadata": {},
   "source": [
    "# Loading Libraries and Dataset"
   ]
  },
  {
   "cell_type": "code",
   "execution_count": 217,
   "id": "606a3a5b-923b-4d19-a92d-4d7591c87cf2",
   "metadata": {},
   "outputs": [],
   "source": [
    "# Installing and loading libraries\n",
    "import pandas as pd\n",
    "import numpy as np\n",
    "\n",
    "# Train test split\n",
    "from sklearn.model_selection import train_test_split\n",
    "\n",
    "# Tree-based feature importance\n",
    "from sklearn.ensemble import RandomForestClassifier\n",
    "\n",
    "# Recursive feature elimination with logistic regression\n",
    "from sklearn.feature_selection import RFE\n",
    "from sklearn.linear_model import LogisticRegression\n",
    "\n",
    "# Select k-best\n",
    "from sklearn.feature_selection import SelectKBest, chi2"
   ]
  },
  {
   "cell_type": "code",
   "execution_count": 218,
   "id": "6f08f97e-5234-4eb5-8308-d7c7e042a0c0",
   "metadata": {},
   "outputs": [],
   "source": [
    "# Loading the preprocessed CSV dataset\n",
    "df = pd.read_csv(\"Dataset/PreprocessedDataset.csv\")"
   ]
  },
  {
   "cell_type": "markdown",
   "id": "b05d0201-2915-4ebe-bcdf-e9529c49b82e",
   "metadata": {},
   "source": [
    "# Preparing Data"
   ]
  },
  {
   "cell_type": "code",
   "execution_count": 219,
   "id": "985c9df5-2b6b-4a99-9fb9-1e19e42138ec",
   "metadata": {},
   "outputs": [
    {
     "data": {
      "text/plain": [
       "Index(['id', 'age', 'menarche', 'menopause', 'agefirst', 'breastfeeding',\n",
       "       'biopsies', 'year', 'imc', 'weight', 'exercise', 'nrelbc_mother',\n",
       "       'nrelbc_sister', 'nrelbc_daughter', 'nrelbc_cousin', 'nrelbc_aunt',\n",
       "       'nrelbc_grandma', 'nrelbc_absent', 'rhinitis_allergy',\n",
       "       'medicines_allergy', 'laryngitis_allergy', 'dermatitis_allergy',\n",
       "       'other_allergy', 'no_allergy', 'histologicalclass', '1_children',\n",
       "       '2_children', '3_children', '4_children', '5_children',\n",
       "       'more_than_5_children', 'hyperplasia', 'is_mixed_race', 'is_white_race',\n",
       "       'consumed_alcohol', 'consumed_tobacco', 'is_sad', 'is_depressive',\n",
       "       'cancer', 'birads'],\n",
       "      dtype='object')"
      ]
     },
     "execution_count": 219,
     "metadata": {},
     "output_type": "execute_result"
    }
   ],
   "source": [
    "# Viewing all columns in the dataframe\n",
    "df.columns"
   ]
  },
  {
   "cell_type": "code",
   "execution_count": 220,
   "id": "493a6441-17c5-4f90-8000-319ed7dc1423",
   "metadata": {},
   "outputs": [],
   "source": [
    "# Selecting non-label features\n",
    "features = df.drop(columns = [\"cancer\", \"id\"]).columns.tolist()"
   ]
  },
  {
   "cell_type": "code",
   "execution_count": 221,
   "id": "9eaefa00-d571-4469-a2dd-85853937e727",
   "metadata": {},
   "outputs": [],
   "source": [
    "# Train test split\n",
    "X = df[features]\n",
    "y = df[\"cancer\"]\n",
    "\n",
    "X_train, X_test, y_train, y_test = train_test_split(X, y, test_size = 0.3, random_state = 42)"
   ]
  },
  {
   "cell_type": "markdown",
   "id": "0af9c2f4-8b30-4001-bc1d-1921c4b30178",
   "metadata": {},
   "source": [
    "# Feature Selection"
   ]
  },
  {
   "cell_type": "markdown",
   "id": "8bde30f1-7aec-4646-9696-e6247d6b8408",
   "metadata": {},
   "source": [
    "## Tree-Based Feature Importance\n",
    "Using random forest classifier"
   ]
  },
  {
   "cell_type": "code",
   "execution_count": 222,
   "id": "f527038c-04d3-4290-9c05-edab676bff32",
   "metadata": {},
   "outputs": [],
   "source": [
    "# Initializing the model\n",
    "model1 = RandomForestClassifier()"
   ]
  },
  {
   "cell_type": "code",
   "execution_count": 223,
   "id": "c9439602-ffd1-41f3-98e8-197b9102f5bb",
   "metadata": {},
   "outputs": [],
   "source": [
    "# Model fitting\n",
    "model1.fit(X_train, y_train)\n",
    "importances = model1.feature_importances_"
   ]
  },
  {
   "cell_type": "code",
   "execution_count": 224,
   "id": "1865a301-62b9-489e-b49f-bbc02c4def77",
   "metadata": {},
   "outputs": [
    {
     "name": "stdout",
     "output_type": "stream",
     "text": [
      "biopsies                0.401438\n",
      "histologicalclass       0.110461\n",
      "is_sad                  0.061612\n",
      "year                    0.057895\n",
      "consumed_alcohol        0.051698\n",
      "consumed_tobacco        0.049053\n",
      "hyperplasia             0.046172\n",
      "breastfeeding           0.038801\n",
      "birads                  0.031298\n",
      "weight                  0.021748\n",
      "other_allergy           0.016843\n",
      "nrelbc_mother           0.015829\n",
      "age                     0.013824\n",
      "nrelbc_sister           0.011788\n",
      "is_depressive           0.010499\n",
      "imc                     0.009259\n",
      "nrelbc_absent           0.009093\n",
      "menopause               0.008869\n",
      "agefirst                0.004302\n",
      "menarche                0.004111\n",
      "2_children              0.003334\n",
      "nrelbc_cousin           0.003310\n",
      "nrelbc_aunt             0.003146\n",
      "nrelbc_grandma          0.002847\n",
      "exercise                0.002405\n",
      "3_children              0.002373\n",
      "1_children              0.001250\n",
      "nrelbc_daughter         0.001021\n",
      "is_white_race           0.000959\n",
      "no_allergy              0.000949\n",
      "is_mixed_race           0.000726\n",
      "4_children              0.000690\n",
      "medicines_allergy       0.000687\n",
      "rhinitis_allergy        0.000656\n",
      "dermatitis_allergy      0.000526\n",
      "laryngitis_allergy      0.000455\n",
      "5_children              0.000073\n",
      "more_than_5_children    0.000000\n",
      "dtype: float64\n"
     ]
    }
   ],
   "source": [
    "# Viewing the score value of each feature\n",
    "feature_importances = pd.Series(importances, index = X_train.columns)\n",
    "print(feature_importances.sort_values(ascending = False))"
   ]
  },
  {
   "cell_type": "markdown",
   "id": "89ade7d0-e675-44ef-b805-4f2ee5b5137b",
   "metadata": {},
   "source": [
    "## Recursive Feature Elimination\n",
    "Using logistic regression"
   ]
  },
  {
   "cell_type": "code",
   "execution_count": 225,
   "id": "f5083019-9b1a-4c1a-94b6-ed3e7033067f",
   "metadata": {},
   "outputs": [],
   "source": [
    "# Initializing the model\n",
    "model2 = LogisticRegression(max_iter = 9999)"
   ]
  },
  {
   "cell_type": "code",
   "execution_count": 226,
   "id": "d0ead20d-71eb-4386-9287-b53b3da7fe5e",
   "metadata": {},
   "outputs": [],
   "source": [
    "# Model fitting\n",
    "rfe = RFE(model2, n_features_to_select = 5)\n",
    "X_train_rfe = rfe.fit_transform(X_train, y_train)"
   ]
  },
  {
   "cell_type": "code",
   "execution_count": 227,
   "id": "b69872d9-af5a-49b6-a92f-30eaf4efd0a4",
   "metadata": {},
   "outputs": [
    {
     "name": "stdout",
     "output_type": "stream",
     "text": [
      "Selected features:  Index(['biopsies', 'other_allergy', '2_children', '3_children', 'is_sad'], dtype='object')\n"
     ]
    }
   ],
   "source": [
    "# Viewing the features\n",
    "print(\"Selected features: \", X_train.columns[rfe.get_support()])"
   ]
  },
  {
   "cell_type": "markdown",
   "id": "206ef164-0cfd-482e-bcd7-d6ffe08bfa70",
   "metadata": {},
   "source": [
    "## Select K-Best"
   ]
  },
  {
   "cell_type": "code",
   "execution_count": 228,
   "id": "179f14bb-b821-4491-9ccf-291a7813d190",
   "metadata": {},
   "outputs": [],
   "source": [
    "# Applying select k-best using chi2\n",
    "select_k_best = SelectKBest(score_func = chi2, k = 5)\n",
    "X_train_k_best = select_k_best.fit_transform(X_train, y_train)"
   ]
  },
  {
   "cell_type": "code",
   "execution_count": 229,
   "id": "bbead4da-adb0-4461-91da-bce8037a6c4e",
   "metadata": {},
   "outputs": [
    {
     "name": "stdout",
     "output_type": "stream",
     "text": [
      "Selected features:  Index(['age', 'menopause', 'agefirst', 'breastfeeding', 'biopsies'], dtype='object')\n"
     ]
    }
   ],
   "source": [
    "# Viewing the features\n",
    "print(\"Selected features: \", X_train.columns[select_k_best.get_support()])"
   ]
  }
 ],
 "metadata": {
  "kernelspec": {
   "display_name": "Python 3 (ipykernel)",
   "language": "python",
   "name": "python3"
  },
  "language_info": {
   "codemirror_mode": {
    "name": "ipython",
    "version": 3
   },
   "file_extension": ".py",
   "mimetype": "text/x-python",
   "name": "python",
   "nbconvert_exporter": "python",
   "pygments_lexer": "ipython3",
   "version": "3.12.6"
  }
 },
 "nbformat": 4,
 "nbformat_minor": 5
}
