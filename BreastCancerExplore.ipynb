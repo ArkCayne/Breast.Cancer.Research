{
 "cells": [
  {
   "cell_type": "code",
   "execution_count": 633,
   "metadata": {
    "id": "2DXxk0rORRLJ"
   },
   "outputs": [],
   "source": [
    "import pandas as pd\n",
    "from sklearn.preprocessing import LabelEncoder\n",
    "from sklearn.model_selection import train_test_split\n",
    "from sklearn.feature_selection import SelectKBest, chi2\n",
    "from sklearn.ensemble import RandomForestClassifier\n",
    "import matplotlib.pyplot as plt\n",
    "import seaborn as sns"
   ]
  },
  {
   "cell_type": "code",
   "execution_count": 634,
   "metadata": {
    "id": "Ea4Xog2nqJqY"
   },
   "outputs": [],
   "source": [
    "import numpy as np\n",
    "from sklearn.model_selection import train_test_split, GridSearchCV\n",
    "from sklearn.preprocessing import StandardScaler, OneHotEncoder\n",
    "from sklearn.compose import ColumnTransformer\n",
    "from sklearn.metrics import accuracy_score, classification_report, confusion_matrix\n",
    "from sklearn.pipeline import Pipeline"
   ]
  },
  {
   "cell_type": "code",
   "execution_count": 635,
   "metadata": {
    "id": "FZY1rTU-YY1m"
   },
   "outputs": [],
   "source": [
    "df = pd.read_csv(\"/content/CubanDataset.csv\")"
   ]
  },
  {
   "cell_type": "code",
   "execution_count": 636,
   "metadata": {
    "colab": {
     "base_uri": "https://localhost:8080/",
     "height": 256
    },
    "id": "nnP4UW6FYYz2",
    "outputId": "19b011d5-5a00-4341-b5f6-f033f689883a"
   },
   "outputs": [
    {
     "data": {
      "application/vnd.google.colaboratory.intrinsic+json": {
       "type": "dataframe",
       "variable_name": "df"
      },
      "text/html": [
       "\n",
       "  <div id=\"df-27a6be5a-2222-4b9b-bcec-494731b53b69\" class=\"colab-df-container\">\n",
       "    <div>\n",
       "<style scoped>\n",
       "    .dataframe tbody tr th:only-of-type {\n",
       "        vertical-align: middle;\n",
       "    }\n",
       "\n",
       "    .dataframe tbody tr th {\n",
       "        vertical-align: top;\n",
       "    }\n",
       "\n",
       "    .dataframe thead th {\n",
       "        text-align: right;\n",
       "    }\n",
       "</style>\n",
       "<table border=\"1\" class=\"dataframe\">\n",
       "  <thead>\n",
       "    <tr style=\"text-align: right;\">\n",
       "      <th></th>\n",
       "      <th>id</th>\n",
       "      <th>age</th>\n",
       "      <th>menarche</th>\n",
       "      <th>menopause</th>\n",
       "      <th>agefirst</th>\n",
       "      <th>children</th>\n",
       "      <th>breastfeeding</th>\n",
       "      <th>nrelbc</th>\n",
       "      <th>biopsies</th>\n",
       "      <th>hyperplasia</th>\n",
       "      <th>...</th>\n",
       "      <th>weight</th>\n",
       "      <th>exercise</th>\n",
       "      <th>alcohol</th>\n",
       "      <th>tobacco</th>\n",
       "      <th>allergies</th>\n",
       "      <th>emotional</th>\n",
       "      <th>depressive</th>\n",
       "      <th>histologicalclass</th>\n",
       "      <th>birads</th>\n",
       "      <th>cancer</th>\n",
       "    </tr>\n",
       "  </thead>\n",
       "  <tbody>\n",
       "    <tr>\n",
       "      <th>0</th>\n",
       "      <td>1</td>\n",
       "      <td>50</td>\n",
       "      <td>11</td>\n",
       "      <td>No</td>\n",
       "      <td>No</td>\n",
       "      <td>0</td>\n",
       "      <td>No</td>\n",
       "      <td>Mother</td>\n",
       "      <td>1.0</td>\n",
       "      <td>Yes</td>\n",
       "      <td>...</td>\n",
       "      <td>83.4</td>\n",
       "      <td>No</td>\n",
       "      <td>Yes</td>\n",
       "      <td>Yes</td>\n",
       "      <td>Rhinitis</td>\n",
       "      <td>Sad</td>\n",
       "      <td>Yes</td>\n",
       "      <td>3.0</td>\n",
       "      <td>3A</td>\n",
       "      <td>Yes</td>\n",
       "    </tr>\n",
       "    <tr>\n",
       "      <th>1</th>\n",
       "      <td>2</td>\n",
       "      <td>46</td>\n",
       "      <td>12</td>\n",
       "      <td>No</td>\n",
       "      <td>36</td>\n",
       "      <td>1</td>\n",
       "      <td>3 months</td>\n",
       "      <td>Mother/Sister</td>\n",
       "      <td>2.0</td>\n",
       "      <td>Yes</td>\n",
       "      <td>...</td>\n",
       "      <td>78.2</td>\n",
       "      <td>2</td>\n",
       "      <td>Yes</td>\n",
       "      <td>No</td>\n",
       "      <td>Medicines</td>\n",
       "      <td>Joy</td>\n",
       "      <td>No</td>\n",
       "      <td>3.0</td>\n",
       "      <td>3B</td>\n",
       "      <td>Yes</td>\n",
       "    </tr>\n",
       "    <tr>\n",
       "      <th>2</th>\n",
       "      <td>3</td>\n",
       "      <td>47</td>\n",
       "      <td>13</td>\n",
       "      <td>No</td>\n",
       "      <td>26</td>\n",
       "      <td>1</td>\n",
       "      <td>3 months</td>\n",
       "      <td>Sister</td>\n",
       "      <td>1.0</td>\n",
       "      <td>Yes</td>\n",
       "      <td>...</td>\n",
       "      <td>82.6</td>\n",
       "      <td>1</td>\n",
       "      <td>No</td>\n",
       "      <td>Yes</td>\n",
       "      <td>Laryngitis</td>\n",
       "      <td>Sad</td>\n",
       "      <td>No</td>\n",
       "      <td>4.0</td>\n",
       "      <td>3B</td>\n",
       "      <td>Yes</td>\n",
       "    </tr>\n",
       "    <tr>\n",
       "      <th>3</th>\n",
       "      <td>4</td>\n",
       "      <td>49</td>\n",
       "      <td>11</td>\n",
       "      <td>47</td>\n",
       "      <td>21</td>\n",
       "      <td>1</td>\n",
       "      <td>No</td>\n",
       "      <td>Daughter</td>\n",
       "      <td>1.0</td>\n",
       "      <td>No</td>\n",
       "      <td>...</td>\n",
       "      <td>79.4</td>\n",
       "      <td>No</td>\n",
       "      <td>Yes</td>\n",
       "      <td>Yes</td>\n",
       "      <td>No</td>\n",
       "      <td>Joy</td>\n",
       "      <td>No</td>\n",
       "      <td>3.0</td>\n",
       "      <td>4B</td>\n",
       "      <td>Yes</td>\n",
       "    </tr>\n",
       "    <tr>\n",
       "      <th>4</th>\n",
       "      <td>5</td>\n",
       "      <td>54</td>\n",
       "      <td>14</td>\n",
       "      <td>42</td>\n",
       "      <td>16</td>\n",
       "      <td>1</td>\n",
       "      <td>1 month</td>\n",
       "      <td>Mother</td>\n",
       "      <td>2.0</td>\n",
       "      <td>Yes</td>\n",
       "      <td>...</td>\n",
       "      <td>81.5</td>\n",
       "      <td>No</td>\n",
       "      <td>Yes</td>\n",
       "      <td>No</td>\n",
       "      <td>No</td>\n",
       "      <td>Sad</td>\n",
       "      <td>Yes</td>\n",
       "      <td>4.0</td>\n",
       "      <td>3C</td>\n",
       "      <td>Yes</td>\n",
       "    </tr>\n",
       "  </tbody>\n",
       "</table>\n",
       "<p>5 rows × 23 columns</p>\n",
       "</div>\n",
       "    <div class=\"colab-df-buttons\">\n",
       "\n",
       "  <div class=\"colab-df-container\">\n",
       "    <button class=\"colab-df-convert\" onclick=\"convertToInteractive('df-27a6be5a-2222-4b9b-bcec-494731b53b69')\"\n",
       "            title=\"Convert this dataframe to an interactive table.\"\n",
       "            style=\"display:none;\">\n",
       "\n",
       "  <svg xmlns=\"http://www.w3.org/2000/svg\" height=\"24px\" viewBox=\"0 -960 960 960\">\n",
       "    <path d=\"M120-120v-720h720v720H120Zm60-500h600v-160H180v160Zm220 220h160v-160H400v160Zm0 220h160v-160H400v160ZM180-400h160v-160H180v160Zm440 0h160v-160H620v160ZM180-180h160v-160H180v160Zm440 0h160v-160H620v160Z\"/>\n",
       "  </svg>\n",
       "    </button>\n",
       "\n",
       "  <style>\n",
       "    .colab-df-container {\n",
       "      display:flex;\n",
       "      gap: 12px;\n",
       "    }\n",
       "\n",
       "    .colab-df-convert {\n",
       "      background-color: #E8F0FE;\n",
       "      border: none;\n",
       "      border-radius: 50%;\n",
       "      cursor: pointer;\n",
       "      display: none;\n",
       "      fill: #1967D2;\n",
       "      height: 32px;\n",
       "      padding: 0 0 0 0;\n",
       "      width: 32px;\n",
       "    }\n",
       "\n",
       "    .colab-df-convert:hover {\n",
       "      background-color: #E2EBFA;\n",
       "      box-shadow: 0px 1px 2px rgba(60, 64, 67, 0.3), 0px 1px 3px 1px rgba(60, 64, 67, 0.15);\n",
       "      fill: #174EA6;\n",
       "    }\n",
       "\n",
       "    .colab-df-buttons div {\n",
       "      margin-bottom: 4px;\n",
       "    }\n",
       "\n",
       "    [theme=dark] .colab-df-convert {\n",
       "      background-color: #3B4455;\n",
       "      fill: #D2E3FC;\n",
       "    }\n",
       "\n",
       "    [theme=dark] .colab-df-convert:hover {\n",
       "      background-color: #434B5C;\n",
       "      box-shadow: 0px 1px 3px 1px rgba(0, 0, 0, 0.15);\n",
       "      filter: drop-shadow(0px 1px 2px rgba(0, 0, 0, 0.3));\n",
       "      fill: #FFFFFF;\n",
       "    }\n",
       "  </style>\n",
       "\n",
       "    <script>\n",
       "      const buttonEl =\n",
       "        document.querySelector('#df-27a6be5a-2222-4b9b-bcec-494731b53b69 button.colab-df-convert');\n",
       "      buttonEl.style.display =\n",
       "        google.colab.kernel.accessAllowed ? 'block' : 'none';\n",
       "\n",
       "      async function convertToInteractive(key) {\n",
       "        const element = document.querySelector('#df-27a6be5a-2222-4b9b-bcec-494731b53b69');\n",
       "        const dataTable =\n",
       "          await google.colab.kernel.invokeFunction('convertToInteractive',\n",
       "                                                    [key], {});\n",
       "        if (!dataTable) return;\n",
       "\n",
       "        const docLinkHtml = 'Like what you see? Visit the ' +\n",
       "          '<a target=\"_blank\" href=https://colab.research.google.com/notebooks/data_table.ipynb>data table notebook</a>'\n",
       "          + ' to learn more about interactive tables.';\n",
       "        element.innerHTML = '';\n",
       "        dataTable['output_type'] = 'display_data';\n",
       "        await google.colab.output.renderOutput(dataTable, element);\n",
       "        const docLink = document.createElement('div');\n",
       "        docLink.innerHTML = docLinkHtml;\n",
       "        element.appendChild(docLink);\n",
       "      }\n",
       "    </script>\n",
       "  </div>\n",
       "\n",
       "\n",
       "<div id=\"df-56f42428-e782-4a4a-a358-9ed9239cb42d\">\n",
       "  <button class=\"colab-df-quickchart\" onclick=\"quickchart('df-56f42428-e782-4a4a-a358-9ed9239cb42d')\"\n",
       "            title=\"Suggest charts\"\n",
       "            style=\"display:none;\">\n",
       "\n",
       "<svg xmlns=\"http://www.w3.org/2000/svg\" height=\"24px\"viewBox=\"0 0 24 24\"\n",
       "     width=\"24px\">\n",
       "    <g>\n",
       "        <path d=\"M19 3H5c-1.1 0-2 .9-2 2v14c0 1.1.9 2 2 2h14c1.1 0 2-.9 2-2V5c0-1.1-.9-2-2-2zM9 17H7v-7h2v7zm4 0h-2V7h2v10zm4 0h-2v-4h2v4z\"/>\n",
       "    </g>\n",
       "</svg>\n",
       "  </button>\n",
       "\n",
       "<style>\n",
       "  .colab-df-quickchart {\n",
       "      --bg-color: #E8F0FE;\n",
       "      --fill-color: #1967D2;\n",
       "      --hover-bg-color: #E2EBFA;\n",
       "      --hover-fill-color: #174EA6;\n",
       "      --disabled-fill-color: #AAA;\n",
       "      --disabled-bg-color: #DDD;\n",
       "  }\n",
       "\n",
       "  [theme=dark] .colab-df-quickchart {\n",
       "      --bg-color: #3B4455;\n",
       "      --fill-color: #D2E3FC;\n",
       "      --hover-bg-color: #434B5C;\n",
       "      --hover-fill-color: #FFFFFF;\n",
       "      --disabled-bg-color: #3B4455;\n",
       "      --disabled-fill-color: #666;\n",
       "  }\n",
       "\n",
       "  .colab-df-quickchart {\n",
       "    background-color: var(--bg-color);\n",
       "    border: none;\n",
       "    border-radius: 50%;\n",
       "    cursor: pointer;\n",
       "    display: none;\n",
       "    fill: var(--fill-color);\n",
       "    height: 32px;\n",
       "    padding: 0;\n",
       "    width: 32px;\n",
       "  }\n",
       "\n",
       "  .colab-df-quickchart:hover {\n",
       "    background-color: var(--hover-bg-color);\n",
       "    box-shadow: 0 1px 2px rgba(60, 64, 67, 0.3), 0 1px 3px 1px rgba(60, 64, 67, 0.15);\n",
       "    fill: var(--button-hover-fill-color);\n",
       "  }\n",
       "\n",
       "  .colab-df-quickchart-complete:disabled,\n",
       "  .colab-df-quickchart-complete:disabled:hover {\n",
       "    background-color: var(--disabled-bg-color);\n",
       "    fill: var(--disabled-fill-color);\n",
       "    box-shadow: none;\n",
       "  }\n",
       "\n",
       "  .colab-df-spinner {\n",
       "    border: 2px solid var(--fill-color);\n",
       "    border-color: transparent;\n",
       "    border-bottom-color: var(--fill-color);\n",
       "    animation:\n",
       "      spin 1s steps(1) infinite;\n",
       "  }\n",
       "\n",
       "  @keyframes spin {\n",
       "    0% {\n",
       "      border-color: transparent;\n",
       "      border-bottom-color: var(--fill-color);\n",
       "      border-left-color: var(--fill-color);\n",
       "    }\n",
       "    20% {\n",
       "      border-color: transparent;\n",
       "      border-left-color: var(--fill-color);\n",
       "      border-top-color: var(--fill-color);\n",
       "    }\n",
       "    30% {\n",
       "      border-color: transparent;\n",
       "      border-left-color: var(--fill-color);\n",
       "      border-top-color: var(--fill-color);\n",
       "      border-right-color: var(--fill-color);\n",
       "    }\n",
       "    40% {\n",
       "      border-color: transparent;\n",
       "      border-right-color: var(--fill-color);\n",
       "      border-top-color: var(--fill-color);\n",
       "    }\n",
       "    60% {\n",
       "      border-color: transparent;\n",
       "      border-right-color: var(--fill-color);\n",
       "    }\n",
       "    80% {\n",
       "      border-color: transparent;\n",
       "      border-right-color: var(--fill-color);\n",
       "      border-bottom-color: var(--fill-color);\n",
       "    }\n",
       "    90% {\n",
       "      border-color: transparent;\n",
       "      border-bottom-color: var(--fill-color);\n",
       "    }\n",
       "  }\n",
       "</style>\n",
       "\n",
       "  <script>\n",
       "    async function quickchart(key) {\n",
       "      const quickchartButtonEl =\n",
       "        document.querySelector('#' + key + ' button');\n",
       "      quickchartButtonEl.disabled = true;  // To prevent multiple clicks.\n",
       "      quickchartButtonEl.classList.add('colab-df-spinner');\n",
       "      try {\n",
       "        const charts = await google.colab.kernel.invokeFunction(\n",
       "            'suggestCharts', [key], {});\n",
       "      } catch (error) {\n",
       "        console.error('Error during call to suggestCharts:', error);\n",
       "      }\n",
       "      quickchartButtonEl.classList.remove('colab-df-spinner');\n",
       "      quickchartButtonEl.classList.add('colab-df-quickchart-complete');\n",
       "    }\n",
       "    (() => {\n",
       "      let quickchartButtonEl =\n",
       "        document.querySelector('#df-56f42428-e782-4a4a-a358-9ed9239cb42d button');\n",
       "      quickchartButtonEl.style.display =\n",
       "        google.colab.kernel.accessAllowed ? 'block' : 'none';\n",
       "    })();\n",
       "  </script>\n",
       "</div>\n",
       "\n",
       "    </div>\n",
       "  </div>\n"
      ],
      "text/plain": [
       "   id  age  menarche menopause agefirst children breastfeeding         nrelbc  \\\n",
       "0   1   50        11        No       No        0            No         Mother   \n",
       "1   2   46        12        No       36        1      3 months  Mother/Sister   \n",
       "2   3   47        13        No       26        1      3 months         Sister   \n",
       "3   4   49        11        47       21        1            No       Daughter   \n",
       "4   5   54        14        42       16        1       1 month         Mother   \n",
       "\n",
       "   biopsies hyperplasia  ... weight  exercise  alcohol  tobacco   allergies  \\\n",
       "0       1.0         Yes  ...   83.4        No      Yes      Yes    Rhinitis   \n",
       "1       2.0         Yes  ...   78.2         2      Yes       No   Medicines   \n",
       "2       1.0         Yes  ...   82.6         1       No      Yes  Laryngitis   \n",
       "3       1.0          No  ...   79.4        No      Yes      Yes          No   \n",
       "4       2.0         Yes  ...   81.5        No      Yes       No          No   \n",
       "\n",
       "  emotional depressive histologicalclass birads cancer  \n",
       "0       Sad        Yes               3.0     3A    Yes  \n",
       "1       Joy         No               3.0     3B    Yes  \n",
       "2       Sad         No               4.0     3B    Yes  \n",
       "3       Joy         No               3.0     4B    Yes  \n",
       "4       Sad        Yes               4.0     3C    Yes  \n",
       "\n",
       "[5 rows x 23 columns]"
      ]
     },
     "execution_count": 636,
     "metadata": {},
     "output_type": "execute_result"
    }
   ],
   "source": [
    "df.head()"
   ]
  },
  {
   "cell_type": "code",
   "execution_count": 637,
   "metadata": {
    "colab": {
     "base_uri": "https://localhost:8080/"
    },
    "id": "_t0qOqweYYxS",
    "outputId": "dfbd9731-b9db-440c-c750-00657d2c4d88"
   },
   "outputs": [
    {
     "data": {
      "text/plain": [
       "(1697, 23)"
      ]
     },
     "execution_count": 637,
     "metadata": {},
     "output_type": "execute_result"
    }
   ],
   "source": [
    "df.shape"
   ]
  },
  {
   "cell_type": "code",
   "execution_count": 638,
   "metadata": {
    "colab": {
     "base_uri": "https://localhost:8080/"
    },
    "id": "JINvbOfDYYu5",
    "outputId": "6f4fda85-73e6-490a-fcf2-b58f23bc6fe7"
   },
   "outputs": [
    {
     "name": "stdout",
     "output_type": "stream",
     "text": [
      "<class 'pandas.core.frame.DataFrame'>\n",
      "RangeIndex: 1697 entries, 0 to 1696\n",
      "Data columns (total 23 columns):\n",
      " #   Column             Non-Null Count  Dtype  \n",
      "---  ------             --------------  -----  \n",
      " 0   id                 1697 non-null   int64  \n",
      " 1   age                1697 non-null   int64  \n",
      " 2   menarche           1697 non-null   int64  \n",
      " 3   menopause          1697 non-null   object \n",
      " 4   agefirst           1697 non-null   object \n",
      " 5   children           1697 non-null   object \n",
      " 6   breastfeeding      1697 non-null   object \n",
      " 7   nrelbc             1697 non-null   object \n",
      " 8   biopsies           1696 non-null   float64\n",
      " 9   hyperplasia        1697 non-null   object \n",
      " 10  race               1697 non-null   object \n",
      " 11  year               1160 non-null   float64\n",
      " 12  imc                1690 non-null   float64\n",
      " 13  weight             1687 non-null   float64\n",
      " 14  exercise           1697 non-null   object \n",
      " 15  alcohol            1697 non-null   object \n",
      " 16  tobacco            1697 non-null   object \n",
      " 17  allergies          1421 non-null   object \n",
      " 18  emotional          1697 non-null   object \n",
      " 19  depressive         1697 non-null   object \n",
      " 20  histologicalclass  1160 non-null   float64\n",
      " 21  birads             1160 non-null   object \n",
      " 22  cancer             1697 non-null   object \n",
      "dtypes: float64(5), int64(3), object(15)\n",
      "memory usage: 305.1+ KB\n"
     ]
    }
   ],
   "source": [
    "df.info()"
   ]
  },
  {
   "cell_type": "code",
   "execution_count": 639,
   "metadata": {
    "colab": {
     "base_uri": "https://localhost:8080/",
     "height": 300
    },
    "id": "_CVyfH6ZYd1-",
    "outputId": "8adb435a-8eba-41c4-fb20-f4c296f32f91"
   },
   "outputs": [
    {
     "data": {
      "application/vnd.google.colaboratory.intrinsic+json": {
       "summary": "{\n  \"name\": \"df\",\n  \"rows\": 8,\n  \"fields\": [\n    {\n      \"column\": \"id\",\n      \"properties\": {\n        \"dtype\": \"number\",\n        \"std\": 611.3022414163903,\n        \"min\": 1.0,\n        \"max\": 1697.0,\n        \"num_unique_values\": 6,\n        \"samples\": [\n          1697.0,\n          849.0,\n          1273.0\n        ],\n        \"semantic_type\": \"\",\n        \"description\": \"\"\n      }\n    },\n    {\n      \"column\": \"age\",\n      \"properties\": {\n        \"dtype\": \"number\",\n        \"std\": 583.6880452766169,\n        \"min\": 11.929919463137587,\n        \"max\": 1697.0,\n        \"num_unique_values\": 8,\n        \"samples\": [\n          51.483205657041836,\n          53.0,\n          1697.0\n        ],\n        \"semantic_type\": \"\",\n        \"description\": \"\"\n      }\n    },\n    {\n      \"column\": \"menarche\",\n      \"properties\": {\n        \"dtype\": \"number\",\n        \"std\": 596.2804856238888,\n        \"min\": 1.839936930400245,\n        \"max\": 1697.0,\n        \"num_unique_values\": 8,\n        \"samples\": [\n          11.725987035945787,\n          12.0,\n          1697.0\n        ],\n        \"semantic_type\": \"\",\n        \"description\": \"\"\n      }\n    },\n    {\n      \"column\": \"biopsies\",\n      \"properties\": {\n        \"dtype\": \"number\",\n        \"std\": 599.0986586995919,\n        \"min\": 0.0,\n        \"max\": 1696.0,\n        \"num_unique_values\": 7,\n        \"samples\": [\n          1696.0,\n          1.3083726415094339,\n          2.0\n        ],\n        \"semantic_type\": \"\",\n        \"description\": \"\"\n      }\n    },\n    {\n      \"column\": \"year\",\n      \"properties\": {\n        \"dtype\": \"number\",\n        \"std\": 729.7531890554654,\n        \"min\": 4.636249051990508,\n        \"max\": 2018.0,\n        \"num_unique_values\": 8,\n        \"samples\": [\n          2010.8637931034482,\n          2011.0,\n          1160.0\n        ],\n        \"semantic_type\": \"\",\n        \"description\": \"\"\n      }\n    },\n    {\n      \"column\": \"imc\",\n      \"properties\": {\n        \"dtype\": \"number\",\n        \"std\": 588.0121162255532,\n        \"min\": 4.9615540857801745,\n        \"max\": 1690.0,\n        \"num_unique_values\": 8,\n        \"samples\": [\n          25.534615384615385,\n          25.1,\n          1690.0\n        ],\n        \"semantic_type\": \"\",\n        \"description\": \"\"\n      }\n    },\n    {\n      \"column\": \"weight\",\n      \"properties\": {\n        \"dtype\": \"number\",\n        \"std\": 573.228987609511,\n        \"min\": 12.808853813116261,\n        \"max\": 1687.0,\n        \"num_unique_values\": 8,\n        \"samples\": [\n          70.49721398933018,\n          69.2,\n          1687.0\n        ],\n        \"semantic_type\": \"\",\n        \"description\": \"\"\n      }\n    },\n    {\n      \"column\": \"histologicalclass\",\n      \"properties\": {\n        \"dtype\": \"number\",\n        \"std\": 408.7445193668835,\n        \"min\": 1.0,\n        \"max\": 1160.0,\n        \"num_unique_values\": 7,\n        \"samples\": [\n          1160.0,\n          3.7293103448275864,\n          4.0\n        ],\n        \"semantic_type\": \"\",\n        \"description\": \"\"\n      }\n    }\n  ]\n}",
       "type": "dataframe"
      },
      "text/html": [
       "\n",
       "  <div id=\"df-704c63ce-bf6c-4d38-9070-18efc68a97fe\" class=\"colab-df-container\">\n",
       "    <div>\n",
       "<style scoped>\n",
       "    .dataframe tbody tr th:only-of-type {\n",
       "        vertical-align: middle;\n",
       "    }\n",
       "\n",
       "    .dataframe tbody tr th {\n",
       "        vertical-align: top;\n",
       "    }\n",
       "\n",
       "    .dataframe thead th {\n",
       "        text-align: right;\n",
       "    }\n",
       "</style>\n",
       "<table border=\"1\" class=\"dataframe\">\n",
       "  <thead>\n",
       "    <tr style=\"text-align: right;\">\n",
       "      <th></th>\n",
       "      <th>id</th>\n",
       "      <th>age</th>\n",
       "      <th>menarche</th>\n",
       "      <th>biopsies</th>\n",
       "      <th>year</th>\n",
       "      <th>imc</th>\n",
       "      <th>weight</th>\n",
       "      <th>histologicalclass</th>\n",
       "    </tr>\n",
       "  </thead>\n",
       "  <tbody>\n",
       "    <tr>\n",
       "      <th>count</th>\n",
       "      <td>1697.00000</td>\n",
       "      <td>1697.000000</td>\n",
       "      <td>1697.000000</td>\n",
       "      <td>1696.000000</td>\n",
       "      <td>1160.000000</td>\n",
       "      <td>1690.000000</td>\n",
       "      <td>1687.000000</td>\n",
       "      <td>1160.000000</td>\n",
       "    </tr>\n",
       "    <tr>\n",
       "      <th>mean</th>\n",
       "      <td>849.00000</td>\n",
       "      <td>51.483206</td>\n",
       "      <td>11.725987</td>\n",
       "      <td>1.308373</td>\n",
       "      <td>2010.863793</td>\n",
       "      <td>25.534615</td>\n",
       "      <td>70.497214</td>\n",
       "      <td>3.729310</td>\n",
       "    </tr>\n",
       "    <tr>\n",
       "      <th>std</th>\n",
       "      <td>490.02602</td>\n",
       "      <td>11.929919</td>\n",
       "      <td>1.839937</td>\n",
       "      <td>1.184392</td>\n",
       "      <td>4.636249</td>\n",
       "      <td>4.961554</td>\n",
       "      <td>12.808854</td>\n",
       "      <td>1.767066</td>\n",
       "    </tr>\n",
       "    <tr>\n",
       "      <th>min</th>\n",
       "      <td>1.00000</td>\n",
       "      <td>20.000000</td>\n",
       "      <td>8.000000</td>\n",
       "      <td>0.000000</td>\n",
       "      <td>2001.000000</td>\n",
       "      <td>5.000000</td>\n",
       "      <td>13.000000</td>\n",
       "      <td>1.000000</td>\n",
       "    </tr>\n",
       "    <tr>\n",
       "      <th>25%</th>\n",
       "      <td>425.00000</td>\n",
       "      <td>45.000000</td>\n",
       "      <td>10.000000</td>\n",
       "      <td>0.000000</td>\n",
       "      <td>2008.000000</td>\n",
       "      <td>22.800000</td>\n",
       "      <td>61.900000</td>\n",
       "      <td>3.000000</td>\n",
       "    </tr>\n",
       "    <tr>\n",
       "      <th>50%</th>\n",
       "      <td>849.00000</td>\n",
       "      <td>53.000000</td>\n",
       "      <td>12.000000</td>\n",
       "      <td>1.000000</td>\n",
       "      <td>2011.000000</td>\n",
       "      <td>25.100000</td>\n",
       "      <td>69.200000</td>\n",
       "      <td>3.000000</td>\n",
       "    </tr>\n",
       "    <tr>\n",
       "      <th>75%</th>\n",
       "      <td>1273.00000</td>\n",
       "      <td>61.000000</td>\n",
       "      <td>13.000000</td>\n",
       "      <td>2.000000</td>\n",
       "      <td>2015.000000</td>\n",
       "      <td>27.300000</td>\n",
       "      <td>79.200000</td>\n",
       "      <td>4.000000</td>\n",
       "    </tr>\n",
       "    <tr>\n",
       "      <th>max</th>\n",
       "      <td>1697.00000</td>\n",
       "      <td>90.000000</td>\n",
       "      <td>17.000000</td>\n",
       "      <td>5.000000</td>\n",
       "      <td>2018.000000</td>\n",
       "      <td>88.800000</td>\n",
       "      <td>240.000000</td>\n",
       "      <td>11.000000</td>\n",
       "    </tr>\n",
       "  </tbody>\n",
       "</table>\n",
       "</div>\n",
       "    <div class=\"colab-df-buttons\">\n",
       "\n",
       "  <div class=\"colab-df-container\">\n",
       "    <button class=\"colab-df-convert\" onclick=\"convertToInteractive('df-704c63ce-bf6c-4d38-9070-18efc68a97fe')\"\n",
       "            title=\"Convert this dataframe to an interactive table.\"\n",
       "            style=\"display:none;\">\n",
       "\n",
       "  <svg xmlns=\"http://www.w3.org/2000/svg\" height=\"24px\" viewBox=\"0 -960 960 960\">\n",
       "    <path d=\"M120-120v-720h720v720H120Zm60-500h600v-160H180v160Zm220 220h160v-160H400v160Zm0 220h160v-160H400v160ZM180-400h160v-160H180v160Zm440 0h160v-160H620v160ZM180-180h160v-160H180v160Zm440 0h160v-160H620v160Z\"/>\n",
       "  </svg>\n",
       "    </button>\n",
       "\n",
       "  <style>\n",
       "    .colab-df-container {\n",
       "      display:flex;\n",
       "      gap: 12px;\n",
       "    }\n",
       "\n",
       "    .colab-df-convert {\n",
       "      background-color: #E8F0FE;\n",
       "      border: none;\n",
       "      border-radius: 50%;\n",
       "      cursor: pointer;\n",
       "      display: none;\n",
       "      fill: #1967D2;\n",
       "      height: 32px;\n",
       "      padding: 0 0 0 0;\n",
       "      width: 32px;\n",
       "    }\n",
       "\n",
       "    .colab-df-convert:hover {\n",
       "      background-color: #E2EBFA;\n",
       "      box-shadow: 0px 1px 2px rgba(60, 64, 67, 0.3), 0px 1px 3px 1px rgba(60, 64, 67, 0.15);\n",
       "      fill: #174EA6;\n",
       "    }\n",
       "\n",
       "    .colab-df-buttons div {\n",
       "      margin-bottom: 4px;\n",
       "    }\n",
       "\n",
       "    [theme=dark] .colab-df-convert {\n",
       "      background-color: #3B4455;\n",
       "      fill: #D2E3FC;\n",
       "    }\n",
       "\n",
       "    [theme=dark] .colab-df-convert:hover {\n",
       "      background-color: #434B5C;\n",
       "      box-shadow: 0px 1px 3px 1px rgba(0, 0, 0, 0.15);\n",
       "      filter: drop-shadow(0px 1px 2px rgba(0, 0, 0, 0.3));\n",
       "      fill: #FFFFFF;\n",
       "    }\n",
       "  </style>\n",
       "\n",
       "    <script>\n",
       "      const buttonEl =\n",
       "        document.querySelector('#df-704c63ce-bf6c-4d38-9070-18efc68a97fe button.colab-df-convert');\n",
       "      buttonEl.style.display =\n",
       "        google.colab.kernel.accessAllowed ? 'block' : 'none';\n",
       "\n",
       "      async function convertToInteractive(key) {\n",
       "        const element = document.querySelector('#df-704c63ce-bf6c-4d38-9070-18efc68a97fe');\n",
       "        const dataTable =\n",
       "          await google.colab.kernel.invokeFunction('convertToInteractive',\n",
       "                                                    [key], {});\n",
       "        if (!dataTable) return;\n",
       "\n",
       "        const docLinkHtml = 'Like what you see? Visit the ' +\n",
       "          '<a target=\"_blank\" href=https://colab.research.google.com/notebooks/data_table.ipynb>data table notebook</a>'\n",
       "          + ' to learn more about interactive tables.';\n",
       "        element.innerHTML = '';\n",
       "        dataTable['output_type'] = 'display_data';\n",
       "        await google.colab.output.renderOutput(dataTable, element);\n",
       "        const docLink = document.createElement('div');\n",
       "        docLink.innerHTML = docLinkHtml;\n",
       "        element.appendChild(docLink);\n",
       "      }\n",
       "    </script>\n",
       "  </div>\n",
       "\n",
       "\n",
       "<div id=\"df-63af5a11-14e6-446c-9946-1b8c8e2aa21f\">\n",
       "  <button class=\"colab-df-quickchart\" onclick=\"quickchart('df-63af5a11-14e6-446c-9946-1b8c8e2aa21f')\"\n",
       "            title=\"Suggest charts\"\n",
       "            style=\"display:none;\">\n",
       "\n",
       "<svg xmlns=\"http://www.w3.org/2000/svg\" height=\"24px\"viewBox=\"0 0 24 24\"\n",
       "     width=\"24px\">\n",
       "    <g>\n",
       "        <path d=\"M19 3H5c-1.1 0-2 .9-2 2v14c0 1.1.9 2 2 2h14c1.1 0 2-.9 2-2V5c0-1.1-.9-2-2-2zM9 17H7v-7h2v7zm4 0h-2V7h2v10zm4 0h-2v-4h2v4z\"/>\n",
       "    </g>\n",
       "</svg>\n",
       "  </button>\n",
       "\n",
       "<style>\n",
       "  .colab-df-quickchart {\n",
       "      --bg-color: #E8F0FE;\n",
       "      --fill-color: #1967D2;\n",
       "      --hover-bg-color: #E2EBFA;\n",
       "      --hover-fill-color: #174EA6;\n",
       "      --disabled-fill-color: #AAA;\n",
       "      --disabled-bg-color: #DDD;\n",
       "  }\n",
       "\n",
       "  [theme=dark] .colab-df-quickchart {\n",
       "      --bg-color: #3B4455;\n",
       "      --fill-color: #D2E3FC;\n",
       "      --hover-bg-color: #434B5C;\n",
       "      --hover-fill-color: #FFFFFF;\n",
       "      --disabled-bg-color: #3B4455;\n",
       "      --disabled-fill-color: #666;\n",
       "  }\n",
       "\n",
       "  .colab-df-quickchart {\n",
       "    background-color: var(--bg-color);\n",
       "    border: none;\n",
       "    border-radius: 50%;\n",
       "    cursor: pointer;\n",
       "    display: none;\n",
       "    fill: var(--fill-color);\n",
       "    height: 32px;\n",
       "    padding: 0;\n",
       "    width: 32px;\n",
       "  }\n",
       "\n",
       "  .colab-df-quickchart:hover {\n",
       "    background-color: var(--hover-bg-color);\n",
       "    box-shadow: 0 1px 2px rgba(60, 64, 67, 0.3), 0 1px 3px 1px rgba(60, 64, 67, 0.15);\n",
       "    fill: var(--button-hover-fill-color);\n",
       "  }\n",
       "\n",
       "  .colab-df-quickchart-complete:disabled,\n",
       "  .colab-df-quickchart-complete:disabled:hover {\n",
       "    background-color: var(--disabled-bg-color);\n",
       "    fill: var(--disabled-fill-color);\n",
       "    box-shadow: none;\n",
       "  }\n",
       "\n",
       "  .colab-df-spinner {\n",
       "    border: 2px solid var(--fill-color);\n",
       "    border-color: transparent;\n",
       "    border-bottom-color: var(--fill-color);\n",
       "    animation:\n",
       "      spin 1s steps(1) infinite;\n",
       "  }\n",
       "\n",
       "  @keyframes spin {\n",
       "    0% {\n",
       "      border-color: transparent;\n",
       "      border-bottom-color: var(--fill-color);\n",
       "      border-left-color: var(--fill-color);\n",
       "    }\n",
       "    20% {\n",
       "      border-color: transparent;\n",
       "      border-left-color: var(--fill-color);\n",
       "      border-top-color: var(--fill-color);\n",
       "    }\n",
       "    30% {\n",
       "      border-color: transparent;\n",
       "      border-left-color: var(--fill-color);\n",
       "      border-top-color: var(--fill-color);\n",
       "      border-right-color: var(--fill-color);\n",
       "    }\n",
       "    40% {\n",
       "      border-color: transparent;\n",
       "      border-right-color: var(--fill-color);\n",
       "      border-top-color: var(--fill-color);\n",
       "    }\n",
       "    60% {\n",
       "      border-color: transparent;\n",
       "      border-right-color: var(--fill-color);\n",
       "    }\n",
       "    80% {\n",
       "      border-color: transparent;\n",
       "      border-right-color: var(--fill-color);\n",
       "      border-bottom-color: var(--fill-color);\n",
       "    }\n",
       "    90% {\n",
       "      border-color: transparent;\n",
       "      border-bottom-color: var(--fill-color);\n",
       "    }\n",
       "  }\n",
       "</style>\n",
       "\n",
       "  <script>\n",
       "    async function quickchart(key) {\n",
       "      const quickchartButtonEl =\n",
       "        document.querySelector('#' + key + ' button');\n",
       "      quickchartButtonEl.disabled = true;  // To prevent multiple clicks.\n",
       "      quickchartButtonEl.classList.add('colab-df-spinner');\n",
       "      try {\n",
       "        const charts = await google.colab.kernel.invokeFunction(\n",
       "            'suggestCharts', [key], {});\n",
       "      } catch (error) {\n",
       "        console.error('Error during call to suggestCharts:', error);\n",
       "      }\n",
       "      quickchartButtonEl.classList.remove('colab-df-spinner');\n",
       "      quickchartButtonEl.classList.add('colab-df-quickchart-complete');\n",
       "    }\n",
       "    (() => {\n",
       "      let quickchartButtonEl =\n",
       "        document.querySelector('#df-63af5a11-14e6-446c-9946-1b8c8e2aa21f button');\n",
       "      quickchartButtonEl.style.display =\n",
       "        google.colab.kernel.accessAllowed ? 'block' : 'none';\n",
       "    })();\n",
       "  </script>\n",
       "</div>\n",
       "\n",
       "    </div>\n",
       "  </div>\n"
      ],
      "text/plain": [
       "               id          age     menarche     biopsies         year  \\\n",
       "count  1697.00000  1697.000000  1697.000000  1696.000000  1160.000000   \n",
       "mean    849.00000    51.483206    11.725987     1.308373  2010.863793   \n",
       "std     490.02602    11.929919     1.839937     1.184392     4.636249   \n",
       "min       1.00000    20.000000     8.000000     0.000000  2001.000000   \n",
       "25%     425.00000    45.000000    10.000000     0.000000  2008.000000   \n",
       "50%     849.00000    53.000000    12.000000     1.000000  2011.000000   \n",
       "75%    1273.00000    61.000000    13.000000     2.000000  2015.000000   \n",
       "max    1697.00000    90.000000    17.000000     5.000000  2018.000000   \n",
       "\n",
       "               imc       weight  histologicalclass  \n",
       "count  1690.000000  1687.000000        1160.000000  \n",
       "mean     25.534615    70.497214           3.729310  \n",
       "std       4.961554    12.808854           1.767066  \n",
       "min       5.000000    13.000000           1.000000  \n",
       "25%      22.800000    61.900000           3.000000  \n",
       "50%      25.100000    69.200000           3.000000  \n",
       "75%      27.300000    79.200000           4.000000  \n",
       "max      88.800000   240.000000          11.000000  "
      ]
     },
     "execution_count": 639,
     "metadata": {},
     "output_type": "execute_result"
    }
   ],
   "source": [
    "df.describe()"
   ]
  },
  {
   "cell_type": "code",
   "execution_count": 640,
   "metadata": {
    "colab": {
     "base_uri": "https://localhost:8080/",
     "height": 554
    },
    "id": "6LRcw_OiYd0I",
    "outputId": "eb3fe724-88ce-446d-aaa9-5064bc51ac7b"
   },
   "outputs": [
    {
     "data": {
      "text/html": [
       "<div>\n",
       "<style scoped>\n",
       "    .dataframe tbody tr th:only-of-type {\n",
       "        vertical-align: middle;\n",
       "    }\n",
       "\n",
       "    .dataframe tbody tr th {\n",
       "        vertical-align: top;\n",
       "    }\n",
       "\n",
       "    .dataframe thead th {\n",
       "        text-align: right;\n",
       "    }\n",
       "</style>\n",
       "<table border=\"1\" class=\"dataframe\">\n",
       "  <thead>\n",
       "    <tr style=\"text-align: right;\">\n",
       "      <th></th>\n",
       "      <th>0</th>\n",
       "    </tr>\n",
       "  </thead>\n",
       "  <tbody>\n",
       "    <tr>\n",
       "      <th>menopause</th>\n",
       "      <td>[No, 47, 42, 44, 46, 43, 51, 40, 41, 48, 39, 4...</td>\n",
       "    </tr>\n",
       "    <tr>\n",
       "      <th>agefirst</th>\n",
       "      <td>[No, 36, 26, 21, 16, 20, 27, 24, 30, 35, 25, 1...</td>\n",
       "    </tr>\n",
       "    <tr>\n",
       "      <th>children</th>\n",
       "      <td>[0, 1, 2, 3, 4, 5, 5+]</td>\n",
       "    </tr>\n",
       "    <tr>\n",
       "      <th>breastfeeding</th>\n",
       "      <td>[No, 3 months, 1 month, 2 months, 4 months, 8 ...</td>\n",
       "    </tr>\n",
       "    <tr>\n",
       "      <th>nrelbc</th>\n",
       "      <td>[Mother, Mother/Sister, Sister, Daughter, No, ...</td>\n",
       "    </tr>\n",
       "    <tr>\n",
       "      <th>hyperplasia</th>\n",
       "      <td>[Yes, No]</td>\n",
       "    </tr>\n",
       "    <tr>\n",
       "      <th>race</th>\n",
       "      <td>[White, Mixed, Black]</td>\n",
       "    </tr>\n",
       "    <tr>\n",
       "      <th>exercise</th>\n",
       "      <td>[No, 2, 1, Diary, 3, 5, 4, NO, 6, 0, 7]</td>\n",
       "    </tr>\n",
       "    <tr>\n",
       "      <th>alcohol</th>\n",
       "      <td>[Yes, No]</td>\n",
       "    </tr>\n",
       "    <tr>\n",
       "      <th>tobacco</th>\n",
       "      <td>[Yes, No]</td>\n",
       "    </tr>\n",
       "    <tr>\n",
       "      <th>allergies</th>\n",
       "      <td>[Rhinitis, Medicines, Laryngitis, No, Dermatit...</td>\n",
       "    </tr>\n",
       "    <tr>\n",
       "      <th>emotional</th>\n",
       "      <td>[Sad, Joy]</td>\n",
       "    </tr>\n",
       "    <tr>\n",
       "      <th>depressive</th>\n",
       "      <td>[Yes, No]</td>\n",
       "    </tr>\n",
       "    <tr>\n",
       "      <th>birads</th>\n",
       "      <td>[3A, 3B, 4B, 3C, 5C, 5B, 6, nan]</td>\n",
       "    </tr>\n",
       "    <tr>\n",
       "      <th>cancer</th>\n",
       "      <td>[Yes, No]</td>\n",
       "    </tr>\n",
       "  </tbody>\n",
       "</table>\n",
       "</div><br><label><b>dtype:</b> object</label>"
      ],
      "text/plain": [
       "menopause        [No, 47, 42, 44, 46, 43, 51, 40, 41, 48, 39, 4...\n",
       "agefirst         [No, 36, 26, 21, 16, 20, 27, 24, 30, 35, 25, 1...\n",
       "children                                    [0, 1, 2, 3, 4, 5, 5+]\n",
       "breastfeeding    [No, 3 months, 1 month, 2 months, 4 months, 8 ...\n",
       "nrelbc           [Mother, Mother/Sister, Sister, Daughter, No, ...\n",
       "hyperplasia                                              [Yes, No]\n",
       "race                                         [White, Mixed, Black]\n",
       "exercise                   [No, 2, 1, Diary, 3, 5, 4, NO, 6, 0, 7]\n",
       "alcohol                                                  [Yes, No]\n",
       "tobacco                                                  [Yes, No]\n",
       "allergies        [Rhinitis, Medicines, Laryngitis, No, Dermatit...\n",
       "emotional                                               [Sad, Joy]\n",
       "depressive                                               [Yes, No]\n",
       "birads                            [3A, 3B, 4B, 3C, 5C, 5B, 6, nan]\n",
       "cancer                                                   [Yes, No]\n",
       "dtype: object"
      ]
     },
     "execution_count": 640,
     "metadata": {},
     "output_type": "execute_result"
    }
   ],
   "source": [
    "df.select_dtypes(include = \"object\").apply(pd.unique)"
   ]
  },
  {
   "cell_type": "code",
   "execution_count": 641,
   "metadata": {
    "colab": {
     "base_uri": "https://localhost:8080/",
     "height": 472
    },
    "id": "UCkz6IgZk_n5",
    "outputId": "58fcd7df-a5db-4b9f-b701-b924de7db350"
   },
   "outputs": [
    {
     "data": {
      "image/png": "[encoded data removed]",
      "text/plain": [
       "<Figure size 640x480 with 1 Axes>"
      ]
     },
     "metadata": {},
     "output_type": "display_data"
    }
   ],
   "source": [
    "sns.countplot(x='cancer', data=df)\n",
    "plt.title('Cancer Distribution')\n",
    "plt.show()"
   ]
  },
  {
   "cell_type": "markdown",
   "metadata": {
    "id": "WtKDQe2glkOw"
   },
   "source": [
    "Preprocess"
   ]
  },
  {
   "cell_type": "code",
   "execution_count": 642,
   "metadata": {
    "id": "IJF2kPEtYdyO"
   },
   "outputs": [],
   "source": [
    "df = df.drop(columns = ['id'])"
   ]
  },
  {
   "cell_type": "code",
   "execution_count": 643,
   "metadata": {
    "colab": {
     "base_uri": "https://localhost:8080/"
    },
    "id": "oRavzZKhYdvz",
    "outputId": "10900841-00d7-4078-d6b0-6b33ea847f37"
   },
   "outputs": [
    {
     "name": "stderr",
     "output_type": "stream",
     "text": [
      "<ipython-input-643-41c8090eb171>:1: FutureWarning: A value is trying to be set on a copy of a DataFrame or Series through chained assignment using an inplace method.\n",
      "The behavior will change in pandas 3.0. This inplace method will never work because the intermediate object on which we are setting values always behaves as a copy.\n",
      "\n",
      "For example, when doing 'df[col].method(value, inplace=True)', try using 'df.method({col: value}, inplace=True)' or df[col] = df[col].method(value) instead, to perform the operation inplace on the original object.\n",
      "\n",
      "\n",
      "  df['histologicalclass'].fillna(df['histologicalclass'].min(), inplace=True)\n"
     ]
    }
   ],
   "source": [
    "df['histologicalclass'].fillna(df['histologicalclass'].min(), inplace=True)"
   ]
  },
  {
   "cell_type": "code",
   "execution_count": 644,
   "metadata": {
    "colab": {
     "base_uri": "https://localhost:8080/"
    },
    "id": "wVeSUrPxpJ0s",
    "outputId": "cff6035a-762e-4ee4-c4c6-74b8476b6654"
   },
   "outputs": [
    {
     "name": "stderr",
     "output_type": "stream",
     "text": [
      "<ipython-input-644-a77a4259d12f>:1: FutureWarning: A value is trying to be set on a copy of a DataFrame or Series through chained assignment using an inplace method.\n",
      "The behavior will change in pandas 3.0. This inplace method will never work because the intermediate object on which we are setting values always behaves as a copy.\n",
      "\n",
      "For example, when doing 'df[col].method(value, inplace=True)', try using 'df.method({col: value}, inplace=True)' or df[col] = df[col].method(value) instead, to perform the operation inplace on the original object.\n",
      "\n",
      "\n",
      "  df['birads'].fillna(df['birads'].mode()[0], inplace=True)\n"
     ]
    }
   ],
   "source": [
    "df['birads'].fillna(df['birads'].mode()[0], inplace=True)"
   ]
  },
  {
   "cell_type": "code",
   "execution_count": 645,
   "metadata": {
    "colab": {
     "base_uri": "https://localhost:8080/"
    },
    "id": "QGJEMKc3pqYK",
    "outputId": "4ad48813-46e7-46e6-d8f0-ff953873b74e"
   },
   "outputs": [
    {
     "name": "stderr",
     "output_type": "stream",
     "text": [
      "<ipython-input-645-0d0ee9141c60>:1: FutureWarning: A value is trying to be set on a copy of a DataFrame or Series through chained assignment using an inplace method.\n",
      "The behavior will change in pandas 3.0. This inplace method will never work because the intermediate object on which we are setting values always behaves as a copy.\n",
      "\n",
      "For example, when doing 'df[col].method(value, inplace=True)', try using 'df.method({col: value}, inplace=True)' or df[col] = df[col].method(value) instead, to perform the operation inplace on the original object.\n",
      "\n",
      "\n",
      "  df['year'].fillna(df['year'].median(), inplace=True)\n"
     ]
    }
   ],
   "source": [
    "df['year'].fillna(df['year'].median(), inplace=True)"
   ]
  },
  {
   "cell_type": "code",
   "execution_count": 646,
   "metadata": {
    "id": "HxaASCq-ptyD"
   },
   "outputs": [],
   "source": [
    "df = df.dropna()"
   ]
  },
  {
   "cell_type": "code",
   "execution_count": 647,
   "metadata": {
    "id": "Kifg14pwYgd3"
   },
   "outputs": [],
   "source": [
    "label_encoder = LabelEncoder()"
   ]
  },
  {
   "cell_type": "code",
   "execution_count": 648,
   "metadata": {
    "id": "kHfoCgxIYgby"
   },
   "outputs": [],
   "source": [
    "categorical_columns = df.select_dtypes(include = \"object\")"
   ]
  },
  {
   "cell_type": "code",
   "execution_count": 649,
   "metadata": {
    "id": "DHGrIv0YYgZ1"
   },
   "outputs": [],
   "source": [
    "for col in categorical_columns:\n",
    "    df[col] = label_encoder.fit_transform(df[col])"
   ]
  },
  {
   "cell_type": "code",
   "execution_count": 650,
   "metadata": {
    "colab": {
     "base_uri": "https://localhost:8080/",
     "height": 472
    },
    "id": "KoYD2T3ImLJo",
    "outputId": "ce8c0664-57e6-41ed-d5f6-7b409e9b9508"
   },
   "outputs": [
    {
     "data": {
      "image/png": "[encoded data removed]",
      "text/plain": [
       "<Figure size 640x480 with 1 Axes>"
      ]
     },
     "metadata": {},
     "output_type": "display_data"
    }
   ],
   "source": [
    "sns.countplot(x='cancer', data=df)\n",
    "plt.title('Cancer Distribution')\n",
    "plt.show()"
   ]
  },
  {
   "cell_type": "code",
   "execution_count": 651,
   "metadata": {
    "colab": {
     "base_uri": "https://localhost:8080/"
    },
    "id": "aiohsQj2Yms0",
    "outputId": "5ac1ad8a-e368-4e04-fe85-6f80f8ea1c53"
   },
   "outputs": [
    {
     "name": "stdout",
     "output_type": "stream",
     "text": [
      "      age  menarche  menopause  agefirst  children  breastfeeding  nrelbc  \\\n",
      "0      50        11         25        30         0             38       6   \n",
      "1      46        12         25        24         1             22      12   \n",
      "2      47        13         25        14         1             22      14   \n",
      "3      49        11         16         9         1             38       3   \n",
      "4      54        14         11         4         1              2       6   \n",
      "...   ...       ...        ...       ...       ...            ...     ...   \n",
      "1688   21        11          0         0         0              0      13   \n",
      "1692   42        12          2         8         2             21      13   \n",
      "1694   21         9          0         0         0              0      13   \n",
      "1695   25        12          0         0         0              0      13   \n",
      "1696   20        11          0         0         0              0      13   \n",
      "\n",
      "      biopsies  hyperplasia  race  ...  weight  exercise  alcohol  tobacco  \\\n",
      "0          1.0            1     2  ...    83.4        10        1        1   \n",
      "1          2.0            1     1  ...    78.2         2        1        0   \n",
      "2          1.0            1     0  ...    82.6         1        0        1   \n",
      "3          1.0            0     0  ...    79.4        10        1        1   \n",
      "4          2.0            1     2  ...    81.5        10        1        0   \n",
      "...        ...          ...   ...  ...     ...       ...      ...      ...   \n",
      "1688       0.0            0     2  ...    53.0         0        1        1   \n",
      "1692       0.0            0     2  ...    60.0         0        1        0   \n",
      "1694       0.0            0     2  ...    55.0         3        1        1   \n",
      "1695       0.0            0     1  ...    69.0         5        1        1   \n",
      "1696       0.0            0     2  ...    67.7         0        0        0   \n",
      "\n",
      "      allergies  emotional  depressive  histologicalclass  birads  cancer  \n",
      "0            18          1           1                3.0       0       1  \n",
      "1            11          0           0                3.0       1       1  \n",
      "2             8          1           0                4.0       1       1  \n",
      "3            16          0           0                3.0       3       1  \n",
      "4            16          1           1                4.0       2       1  \n",
      "...         ...        ...         ...                ...     ...     ...  \n",
      "1688         17          0           0                1.0       4       0  \n",
      "1692         17          0           0                1.0       4       0  \n",
      "1694         17          0           0                1.0       4       0  \n",
      "1695         17          0           0                1.0       4       0  \n",
      "1696         11          0           0                1.0       4       0  \n",
      "\n",
      "[1419 rows x 22 columns]\n"
     ]
    }
   ],
   "source": [
    "print(df)"
   ]
  },
  {
   "cell_type": "code",
   "execution_count": 652,
   "metadata": {
    "id": "9K7YOpiAYmq5"
   },
   "outputs": [],
   "source": [
    "X = df.drop(columns = ['cancer'])\n",
    "y = df['cancer']\n",
    "\n",
    "X_train, X_test, y_train, y_test = train_test_split(X, y, test_size = 0.3, random_state = 42)"
   ]
  },
  {
   "cell_type": "code",
   "execution_count": 653,
   "metadata": {
    "colab": {
     "base_uri": "https://localhost:8080/",
     "height": 458
    },
    "id": "7-Lk3AZalzTO",
    "outputId": "e3755fd9-2c8c-401e-b90f-1879b7e586f1"
   },
   "outputs": [
    {
     "data": {
      "text/html": [
       "<div>\n",
       "<style scoped>\n",
       "    .dataframe tbody tr th:only-of-type {\n",
       "        vertical-align: middle;\n",
       "    }\n",
       "\n",
       "    .dataframe tbody tr th {\n",
       "        vertical-align: top;\n",
       "    }\n",
       "\n",
       "    .dataframe thead th {\n",
       "        text-align: right;\n",
       "    }\n",
       "</style>\n",
       "<table border=\"1\" class=\"dataframe\">\n",
       "  <thead>\n",
       "    <tr style=\"text-align: right;\">\n",
       "      <th></th>\n",
       "      <th>cancer</th>\n",
       "    </tr>\n",
       "  </thead>\n",
       "  <tbody>\n",
       "    <tr>\n",
       "      <th>0</th>\n",
       "      <td>1</td>\n",
       "    </tr>\n",
       "    <tr>\n",
       "      <th>1</th>\n",
       "      <td>1</td>\n",
       "    </tr>\n",
       "    <tr>\n",
       "      <th>2</th>\n",
       "      <td>1</td>\n",
       "    </tr>\n",
       "    <tr>\n",
       "      <th>3</th>\n",
       "      <td>1</td>\n",
       "    </tr>\n",
       "    <tr>\n",
       "      <th>4</th>\n",
       "      <td>1</td>\n",
       "    </tr>\n",
       "    <tr>\n",
       "      <th>...</th>\n",
       "      <td>...</td>\n",
       "    </tr>\n",
       "    <tr>\n",
       "      <th>1688</th>\n",
       "      <td>0</td>\n",
       "    </tr>\n",
       "    <tr>\n",
       "      <th>1692</th>\n",
       "      <td>0</td>\n",
       "    </tr>\n",
       "    <tr>\n",
       "      <th>1694</th>\n",
       "      <td>0</td>\n",
       "    </tr>\n",
       "    <tr>\n",
       "      <th>1695</th>\n",
       "      <td>0</td>\n",
       "    </tr>\n",
       "    <tr>\n",
       "      <th>1696</th>\n",
       "      <td>0</td>\n",
       "    </tr>\n",
       "  </tbody>\n",
       "</table>\n",
       "<p>1419 rows × 1 columns</p>\n",
       "</div><br><label><b>dtype:</b> int64</label>"
      ],
      "text/plain": [
       "0       1\n",
       "1       1\n",
       "2       1\n",
       "3       1\n",
       "4       1\n",
       "       ..\n",
       "1688    0\n",
       "1692    0\n",
       "1694    0\n",
       "1695    0\n",
       "1696    0\n",
       "Name: cancer, Length: 1419, dtype: int64"
      ]
     },
     "execution_count": 653,
     "metadata": {},
     "output_type": "execute_result"
    }
   ],
   "source": [
    "df['cancer']"
   ]
  },
  {
   "cell_type": "code",
   "execution_count": 654,
   "metadata": {
    "colab": {
     "base_uri": "https://localhost:8080/"
    },
    "id": "8vtRiOrqYp0J",
    "outputId": "6d289d41-7def-4610-ca22-cd52b71ebb3f"
   },
   "outputs": [
    {
     "name": "stdout",
     "output_type": "stream",
     "text": [
      "Selected features:  Index(['menopause', 'agefirst', 'breastfeeding', 'exercise',\n",
      "       'histologicalclass'],\n",
      "      dtype='object')\n"
     ]
    }
   ],
   "source": [
    "select_k_best = SelectKBest(score_func = chi2, k = 5)\n",
    "X_train_k_best = select_k_best.fit_transform(X_train, y_train)\n",
    "\n",
    "print(\"Selected features: \", X_train.columns[select_k_best.get_support()])"
   ]
  },
  {
   "cell_type": "code",
   "execution_count": 655,
   "metadata": {
    "colab": {
     "base_uri": "https://localhost:8080/"
    },
    "id": "tiLWncpXYpxP",
    "outputId": "63e3c6f6-d303-455c-d735-2defbab9072b"
   },
   "outputs": [
    {
     "name": "stdout",
     "output_type": "stream",
     "text": [
      "biopsies             0.270510\n",
      "histologicalclass    0.233007\n",
      "exercise             0.184102\n",
      "menopause            0.116125\n",
      "alcohol              0.028406\n",
      "emotional            0.027694\n",
      "breastfeeding        0.024446\n",
      "tobacco              0.019360\n",
      "weight               0.017812\n",
      "birads               0.014113\n",
      "children             0.013547\n",
      "hyperplasia          0.011185\n",
      "year                 0.008307\n",
      "agefirst             0.007776\n",
      "imc                  0.005568\n",
      "depressive           0.004775\n",
      "age                  0.004072\n",
      "nrelbc               0.004021\n",
      "allergies            0.002427\n",
      "menarche             0.002026\n",
      "race                 0.000724\n",
      "dtype: float64\n"
     ]
    }
   ],
   "source": [
    "model = RandomForestClassifier()\n",
    "model.fit(X_train, y_train)\n",
    "importances = model.feature_importances_\n",
    "\n",
    "feature_importances = pd.Series(importances, index = X_train.columns)\n",
    "print(feature_importances.sort_values(ascending = False))"
   ]
  },
  {
   "cell_type": "code",
   "execution_count": 656,
   "metadata": {
    "id": "EE6M6oZ9sXnm"
   },
   "outputs": [],
   "source": [
    "feature_names = ['age', 'menarche', 'menopause', 'agefirst', 'children', 'breastfeeding', 'nrelbc' , 'biopsies' , 'hyperplasia' , 'race' , 'year' , 'imc' , 'weight' , 'exercise' , 'alcohol' , 'tobacco' , 'allergies' , 'emotional' , 'depressive' , 'histologicalclass' , 'birads']\n",
    "\n",
    "importances = feature_importances.sort_values(ascending = True)"
   ]
  },
  {
   "cell_type": "code",
   "execution_count": 657,
   "metadata": {
    "id": "REELE__YsTKH"
   },
   "outputs": [],
   "source": [
    "importance_df = pd.DataFrame({'Feature': feature_names, 'Importance': importances})"
   ]
  },
  {
   "cell_type": "code",
   "execution_count": 658,
   "metadata": {
    "colab": {
     "base_uri": "https://localhost:8080/",
     "height": 718
    },
    "id": "VQJnhPcUr0-n",
    "outputId": "2807108f-9752-4270-f220-87e107be294a"
   },
   "outputs": [
    {
     "data": {
      "image/png": "[encoded data removed]",
      "text/plain": [
       "<Figure size 1200x800 with 1 Axes>"
      ]
     },
     "metadata": {},
     "output_type": "display_data"
    }
   ],
   "source": [
    "plt.figure(figsize=(12, 8))\n",
    "sns.barplot(x='Importance', y='Feature', data=importance_df)\n",
    "plt.title('Feature Importances')\n",
    "plt.show()"
   ]
  }
 ],
 "metadata": {
  "colab": {
   "provenance": []
  },
  "kernelspec": {
   "display_name": "Python 3 (ipykernel)",
   "language": "python",
   "name": "python3"
  },
  "language_info": {
   "codemirror_mode": {
    "name": "ipython",
    "version": 3
   },
   "file_extension": ".py",
   "mimetype": "text/x-python",
   "name": "python",
   "nbconvert_exporter": "python",
   "pygments_lexer": "ipython3",
   "version": "3.12.6"
  }
 },
 "nbformat": 4,
 "nbformat_minor": 4
}
